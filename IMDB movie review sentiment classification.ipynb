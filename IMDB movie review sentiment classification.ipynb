{
 "cells": [
  {
   "cell_type": "markdown",
   "id": "24813f08",
   "metadata": {
    "papermill": {
     "duration": 0.008029,
     "end_time": "2024-08-03T09:56:19.453215",
     "exception": false,
     "start_time": "2024-08-03T09:56:19.445186",
     "status": "completed"
    },
    "tags": []
   },
   "source": [
    "## With Tensorflow Keras"
   ]
  },
  {
   "cell_type": "code",
   "execution_count": 1,
   "id": "3c36eb0e",
   "metadata": {
    "_cell_guid": "b1076dfc-b9ad-4769-8c92-a6c4dae69d19",
    "_uuid": "8f2839f25d086af736a60e9eeb907d3b93b6e0e5",
    "execution": {
     "iopub.execute_input": "2024-08-03T09:56:19.469457Z",
     "iopub.status.busy": "2024-08-03T09:56:19.469115Z",
     "iopub.status.idle": "2024-08-03T09:56:39.769421Z",
     "shell.execute_reply": "2024-08-03T09:56:39.768496Z"
    },
    "papermill": {
     "duration": 20.310952,
     "end_time": "2024-08-03T09:56:39.771756",
     "exception": false,
     "start_time": "2024-08-03T09:56:19.460804",
     "status": "completed"
    },
    "tags": []
   },
   "outputs": [
    {
     "name": "stderr",
     "output_type": "stream",
     "text": [
      "2024-08-03 09:56:22.013054: E external/local_xla/xla/stream_executor/cuda/cuda_dnn.cc:9261] Unable to register cuDNN factory: Attempting to register factory for plugin cuDNN when one has already been registered\n",
      "2024-08-03 09:56:22.013161: E external/local_xla/xla/stream_executor/cuda/cuda_fft.cc:607] Unable to register cuFFT factory: Attempting to register factory for plugin cuFFT when one has already been registered\n",
      "2024-08-03 09:56:22.149844: E external/local_xla/xla/stream_executor/cuda/cuda_blas.cc:1515] Unable to register cuBLAS factory: Attempting to register factory for plugin cuBLAS when one has already been registered\n"
     ]
    }
   ],
   "source": [
    "import numpy as np\n",
    "import pandas as pd\n",
    "import tensorflow as tf \n",
    "from tensorflow.keras.models import Sequential\n",
    "from tensorflow.keras.layers import Dense, Dropout, BatchNormalization\n",
    "from sklearn.preprocessing import MinMaxScaler\n",
    "from sklearn.model_selection import train_test_split\n",
    "import spacy"
   ]
  },
  {
   "cell_type": "code",
   "execution_count": 2,
   "id": "c733594b",
   "metadata": {
    "execution": {
     "iopub.execute_input": "2024-08-03T09:56:39.788775Z",
     "iopub.status.busy": "2024-08-03T09:56:39.788241Z",
     "iopub.status.idle": "2024-08-03T09:56:39.792475Z",
     "shell.execute_reply": "2024-08-03T09:56:39.791638Z"
    },
    "papermill": {
     "duration": 0.014724,
     "end_time": "2024-08-03T09:56:39.794431",
     "exception": false,
     "start_time": "2024-08-03T09:56:39.779707",
     "status": "completed"
    },
    "tags": []
   },
   "outputs": [],
   "source": [
    "start_char = 1\n",
    "oov_char = 2\n",
    "index_from = 3"
   ]
  },
  {
   "cell_type": "code",
   "execution_count": 3,
   "id": "30287670",
   "metadata": {
    "execution": {
     "iopub.execute_input": "2024-08-03T09:56:39.811290Z",
     "iopub.status.busy": "2024-08-03T09:56:39.810751Z",
     "iopub.status.idle": "2024-08-03T09:56:46.558357Z",
     "shell.execute_reply": "2024-08-03T09:56:46.557585Z"
    },
    "papermill": {
     "duration": 6.758294,
     "end_time": "2024-08-03T09:56:46.560589",
     "exception": false,
     "start_time": "2024-08-03T09:56:39.802295",
     "status": "completed"
    },
    "tags": []
   },
   "outputs": [
    {
     "name": "stdout",
     "output_type": "stream",
     "text": [
      "Downloading data from https://storage.googleapis.com/tensorflow/tf-keras-datasets/imdb.npz\n",
      "\u001b[1m17464789/17464789\u001b[0m \u001b[32m━━━━━━━━━━━━━━━━━━━━\u001b[0m\u001b[37m\u001b[0m \u001b[1m1s\u001b[0m 0us/step\n"
     ]
    }
   ],
   "source": [
    "(x_train, y_train), _ = tf.keras.datasets.imdb.load_data(start_char=start_char, oov_char=oov_char, index_from=index_from)"
   ]
  },
  {
   "cell_type": "code",
   "execution_count": 4,
   "id": "0727d4e4",
   "metadata": {
    "execution": {
     "iopub.execute_input": "2024-08-03T09:56:46.581680Z",
     "iopub.status.busy": "2024-08-03T09:56:46.581085Z",
     "iopub.status.idle": "2024-08-03T09:56:46.587047Z",
     "shell.execute_reply": "2024-08-03T09:56:46.586298Z"
    },
    "papermill": {
     "duration": 0.018389,
     "end_time": "2024-08-03T09:56:46.588939",
     "exception": false,
     "start_time": "2024-08-03T09:56:46.570550",
     "status": "completed"
    },
    "tags": []
   },
   "outputs": [
    {
     "data": {
      "text/plain": [
       "(25000,)"
      ]
     },
     "execution_count": 4,
     "metadata": {},
     "output_type": "execute_result"
    }
   ],
   "source": [
    "x_train.shape"
   ]
  },
  {
   "cell_type": "code",
   "execution_count": 5,
   "id": "3392a195",
   "metadata": {
    "execution": {
     "iopub.execute_input": "2024-08-03T09:56:46.609274Z",
     "iopub.status.busy": "2024-08-03T09:56:46.608996Z",
     "iopub.status.idle": "2024-08-03T09:56:46.614052Z",
     "shell.execute_reply": "2024-08-03T09:56:46.613281Z"
    },
    "papermill": {
     "duration": 0.017231,
     "end_time": "2024-08-03T09:56:46.615851",
     "exception": false,
     "start_time": "2024-08-03T09:56:46.598620",
     "status": "completed"
    },
    "tags": []
   },
   "outputs": [
    {
     "data": {
      "text/plain": [
       "dtype('O')"
      ]
     },
     "execution_count": 5,
     "metadata": {},
     "output_type": "execute_result"
    }
   ],
   "source": [
    "x_train.dtype"
   ]
  },
  {
   "cell_type": "code",
   "execution_count": 6,
   "id": "ee3adc71",
   "metadata": {
    "execution": {
     "iopub.execute_input": "2024-08-03T09:56:46.637100Z",
     "iopub.status.busy": "2024-08-03T09:56:46.636847Z",
     "iopub.status.idle": "2024-08-03T09:56:46.641928Z",
     "shell.execute_reply": "2024-08-03T09:56:46.641121Z"
    },
    "papermill": {
     "duration": 0.017183,
     "end_time": "2024-08-03T09:56:46.643691",
     "exception": false,
     "start_time": "2024-08-03T09:56:46.626508",
     "status": "completed"
    },
    "tags": []
   },
   "outputs": [
    {
     "data": {
      "text/plain": [
       "(25000,)"
      ]
     },
     "execution_count": 6,
     "metadata": {},
     "output_type": "execute_result"
    }
   ],
   "source": [
    "y_train.shape"
   ]
  },
  {
   "cell_type": "code",
   "execution_count": 7,
   "id": "8fd9c96b",
   "metadata": {
    "execution": {
     "iopub.execute_input": "2024-08-03T09:56:46.664408Z",
     "iopub.status.busy": "2024-08-03T09:56:46.664136Z",
     "iopub.status.idle": "2024-08-03T09:56:46.669376Z",
     "shell.execute_reply": "2024-08-03T09:56:46.668585Z"
    },
    "papermill": {
     "duration": 0.017697,
     "end_time": "2024-08-03T09:56:46.671306",
     "exception": false,
     "start_time": "2024-08-03T09:56:46.653609",
     "status": "completed"
    },
    "tags": []
   },
   "outputs": [
    {
     "data": {
      "text/plain": [
       "array([1, 0, 0, 1, 0])"
      ]
     },
     "execution_count": 7,
     "metadata": {},
     "output_type": "execute_result"
    }
   ],
   "source": [
    "y_train[:5]"
   ]
  },
  {
   "cell_type": "code",
   "execution_count": 8,
   "id": "57dd1651",
   "metadata": {
    "execution": {
     "iopub.execute_input": "2024-08-03T09:56:46.693590Z",
     "iopub.status.busy": "2024-08-03T09:56:46.693342Z",
     "iopub.status.idle": "2024-08-03T09:56:46.718858Z",
     "shell.execute_reply": "2024-08-03T09:56:46.718034Z"
    },
    "papermill": {
     "duration": 0.038032,
     "end_time": "2024-08-03T09:56:46.720616",
     "exception": false,
     "start_time": "2024-08-03T09:56:46.682584",
     "status": "completed"
    },
    "tags": []
   },
   "outputs": [
    {
     "data": {
      "text/html": [
       "<div>\n",
       "<style scoped>\n",
       "    .dataframe tbody tr th:only-of-type {\n",
       "        vertical-align: middle;\n",
       "    }\n",
       "\n",
       "    .dataframe tbody tr th {\n",
       "        vertical-align: top;\n",
       "    }\n",
       "\n",
       "    .dataframe thead th {\n",
       "        text-align: right;\n",
       "    }\n",
       "</style>\n",
       "<table border=\"1\" class=\"dataframe\">\n",
       "  <thead>\n",
       "    <tr style=\"text-align: right;\">\n",
       "      <th></th>\n",
       "      <th>X</th>\n",
       "      <th>Y</th>\n",
       "    </tr>\n",
       "  </thead>\n",
       "  <tbody>\n",
       "    <tr>\n",
       "      <th>0</th>\n",
       "      <td>[1, 14, 22, 16, 43, 530, 973, 1622, 1385, 65, ...</td>\n",
       "      <td>1</td>\n",
       "    </tr>\n",
       "    <tr>\n",
       "      <th>1</th>\n",
       "      <td>[1, 194, 1153, 194, 8255, 78, 228, 5, 6, 1463,...</td>\n",
       "      <td>0</td>\n",
       "    </tr>\n",
       "    <tr>\n",
       "      <th>2</th>\n",
       "      <td>[1, 14, 47, 8, 30, 31, 7, 4, 249, 108, 7, 4, 5...</td>\n",
       "      <td>0</td>\n",
       "    </tr>\n",
       "    <tr>\n",
       "      <th>3</th>\n",
       "      <td>[1, 4, 18609, 16085, 33, 2804, 4, 2040, 432, 1...</td>\n",
       "      <td>1</td>\n",
       "    </tr>\n",
       "    <tr>\n",
       "      <th>4</th>\n",
       "      <td>[1, 249, 1323, 7, 61, 113, 10, 10, 13, 1637, 1...</td>\n",
       "      <td>0</td>\n",
       "    </tr>\n",
       "  </tbody>\n",
       "</table>\n",
       "</div>"
      ],
      "text/plain": [
       "                                                   X  Y\n",
       "0  [1, 14, 22, 16, 43, 530, 973, 1622, 1385, 65, ...  1\n",
       "1  [1, 194, 1153, 194, 8255, 78, 228, 5, 6, 1463,...  0\n",
       "2  [1, 14, 47, 8, 30, 31, 7, 4, 249, 108, 7, 4, 5...  0\n",
       "3  [1, 4, 18609, 16085, 33, 2804, 4, 2040, 432, 1...  1\n",
       "4  [1, 249, 1323, 7, 61, 113, 10, 10, 13, 1637, 1...  0"
      ]
     },
     "execution_count": 8,
     "metadata": {},
     "output_type": "execute_result"
    }
   ],
   "source": [
    "df = pd.concat([pd.DataFrame({'X': x_train, 'Y': y_train})], ignore_index=True)\n",
    "df.head()"
   ]
  },
  {
   "cell_type": "code",
   "execution_count": 9,
   "id": "f518bd9f",
   "metadata": {
    "execution": {
     "iopub.execute_input": "2024-08-03T09:56:46.742015Z",
     "iopub.status.busy": "2024-08-03T09:56:46.741763Z",
     "iopub.status.idle": "2024-08-03T09:56:47.766831Z",
     "shell.execute_reply": "2024-08-03T09:56:47.765922Z"
    },
    "papermill": {
     "duration": 1.03834,
     "end_time": "2024-08-03T09:56:47.769117",
     "exception": false,
     "start_time": "2024-08-03T09:56:46.730777",
     "status": "completed"
    },
    "tags": []
   },
   "outputs": [
    {
     "name": "stdout",
     "output_type": "stream",
     "text": [
      "Downloading data from https://storage.googleapis.com/tensorflow/tf-keras-datasets/imdb_word_index.json\n",
      "\u001b[1m1641221/1641221\u001b[0m \u001b[32m━━━━━━━━━━━━━━━━━━━━\u001b[0m\u001b[37m\u001b[0m \u001b[1m1s\u001b[0m 0us/step\n"
     ]
    }
   ],
   "source": [
    "word_index = tf.keras.datasets.imdb.get_word_index()\n",
    "\n",
    "inverted_word_index = dict(\n",
    "    (i + index_from, word) for (word, i) in word_index.items()\n",
    ")\n",
    "\n",
    "inverted_word_index[start_char] = \"\"\n",
    "inverted_word_index[oov_char] = \"\"\n"
   ]
  },
  {
   "cell_type": "code",
   "execution_count": 10,
   "id": "0a67424a",
   "metadata": {
    "execution": {
     "iopub.execute_input": "2024-08-03T09:56:47.794886Z",
     "iopub.status.busy": "2024-08-03T09:56:47.794137Z",
     "iopub.status.idle": "2024-08-03T09:56:47.798794Z",
     "shell.execute_reply": "2024-08-03T09:56:47.797967Z"
    },
    "papermill": {
     "duration": 0.019887,
     "end_time": "2024-08-03T09:56:47.800699",
     "exception": false,
     "start_time": "2024-08-03T09:56:47.780812",
     "status": "completed"
    },
    "tags": []
   },
   "outputs": [
    {
     "name": "stdout",
     "output_type": "stream",
     "text": [
      "88584\n",
      "88586\n"
     ]
    }
   ],
   "source": [
    "print(len(word_index))\n",
    "print(len(inverted_word_index))"
   ]
  },
  {
   "cell_type": "code",
   "execution_count": 11,
   "id": "cad808ca",
   "metadata": {
    "execution": {
     "iopub.execute_input": "2024-08-03T09:56:47.824590Z",
     "iopub.status.busy": "2024-08-03T09:56:47.824065Z",
     "iopub.status.idle": "2024-08-03T09:56:47.828449Z",
     "shell.execute_reply": "2024-08-03T09:56:47.827672Z"
    },
    "papermill": {
     "duration": 0.018431,
     "end_time": "2024-08-03T09:56:47.830365",
     "exception": false,
     "start_time": "2024-08-03T09:56:47.811934",
     "status": "completed"
    },
    "tags": []
   },
   "outputs": [],
   "source": [
    "encode = lambda text : [word_index[word] for word in text.split()]\n",
    "decode = lambda inp : \" \".join([inverted_word_index[idx] for idx in inp])"
   ]
  },
  {
   "cell_type": "code",
   "execution_count": 12,
   "id": "aca7c702",
   "metadata": {
    "execution": {
     "iopub.execute_input": "2024-08-03T09:56:47.854568Z",
     "iopub.status.busy": "2024-08-03T09:56:47.854056Z",
     "iopub.status.idle": "2024-08-03T09:56:48.665820Z",
     "shell.execute_reply": "2024-08-03T09:56:48.664933Z"
    },
    "papermill": {
     "duration": 0.826561,
     "end_time": "2024-08-03T09:56:48.668463",
     "exception": false,
     "start_time": "2024-08-03T09:56:47.841902",
     "status": "completed"
    },
    "tags": []
   },
   "outputs": [],
   "source": [
    "df[\"text\"] = df[\"X\"].apply(decode)"
   ]
  },
  {
   "cell_type": "code",
   "execution_count": 13,
   "id": "50c1e454",
   "metadata": {
    "execution": {
     "iopub.execute_input": "2024-08-03T09:56:48.697407Z",
     "iopub.status.busy": "2024-08-03T09:56:48.697062Z",
     "iopub.status.idle": "2024-08-03T09:56:49.853777Z",
     "shell.execute_reply": "2024-08-03T09:56:49.852929Z"
    },
    "papermill": {
     "duration": 1.173682,
     "end_time": "2024-08-03T09:56:49.855956",
     "exception": false,
     "start_time": "2024-08-03T09:56:48.682274",
     "status": "completed"
    },
    "tags": []
   },
   "outputs": [],
   "source": [
    "nlp = spacy.load(\"en_core_web_sm\")\n",
    "def remove_stop_words(text):\n",
    "    doc = nlp(text)\n",
    "    filtered = []\n",
    "    for token in doc:\n",
    "        if token.is_stop or token.is_punct:\n",
    "            continue\n",
    "        filtered.append(token.lemma_)\n",
    "    return \" \".join(filtered)"
   ]
  },
  {
   "cell_type": "code",
   "execution_count": 14,
   "id": "05eb399e",
   "metadata": {
    "execution": {
     "iopub.execute_input": "2024-08-03T09:56:49.880420Z",
     "iopub.status.busy": "2024-08-03T09:56:49.880083Z",
     "iopub.status.idle": "2024-08-03T10:13:59.035641Z",
     "shell.execute_reply": "2024-08-03T10:13:59.034530Z"
    },
    "papermill": {
     "duration": 1029.170596,
     "end_time": "2024-08-03T10:13:59.038147",
     "exception": false,
     "start_time": "2024-08-03T09:56:49.867551",
     "status": "completed"
    },
    "tags": []
   },
   "outputs": [],
   "source": [
    "df[\"pre_text\"] = df[\"text\"].apply(remove_stop_words)"
   ]
  },
  {
   "cell_type": "code",
   "execution_count": 15,
   "id": "8ac906ae",
   "metadata": {
    "execution": {
     "iopub.execute_input": "2024-08-03T10:13:59.063052Z",
     "iopub.status.busy": "2024-08-03T10:13:59.062768Z",
     "iopub.status.idle": "2024-08-03T10:22:46.610509Z",
     "shell.execute_reply": "2024-08-03T10:22:46.609620Z"
    },
    "papermill": {
     "duration": 527.562873,
     "end_time": "2024-08-03T10:22:46.613209",
     "exception": false,
     "start_time": "2024-08-03T10:13:59.050336",
     "status": "completed"
    },
    "tags": []
   },
   "outputs": [],
   "source": [
    "nlp = spacy.load(\"en_core_web_lg\")\n",
    "df[\"vector\"] = df[\"pre_text\"].apply(lambda text: nlp(text).vector)"
   ]
  },
  {
   "cell_type": "code",
   "execution_count": 16,
   "id": "f404e3e7",
   "metadata": {
    "execution": {
     "iopub.execute_input": "2024-08-03T10:22:46.638623Z",
     "iopub.status.busy": "2024-08-03T10:22:46.638049Z",
     "iopub.status.idle": "2024-08-03T10:22:46.659976Z",
     "shell.execute_reply": "2024-08-03T10:22:46.659186Z"
    },
    "papermill": {
     "duration": 0.036751,
     "end_time": "2024-08-03T10:22:46.662313",
     "exception": false,
     "start_time": "2024-08-03T10:22:46.625562",
     "status": "completed"
    },
    "tags": []
   },
   "outputs": [
    {
     "data": {
      "text/html": [
       "<div>\n",
       "<style scoped>\n",
       "    .dataframe tbody tr th:only-of-type {\n",
       "        vertical-align: middle;\n",
       "    }\n",
       "\n",
       "    .dataframe tbody tr th {\n",
       "        vertical-align: top;\n",
       "    }\n",
       "\n",
       "    .dataframe thead th {\n",
       "        text-align: right;\n",
       "    }\n",
       "</style>\n",
       "<table border=\"1\" class=\"dataframe\">\n",
       "  <thead>\n",
       "    <tr style=\"text-align: right;\">\n",
       "      <th></th>\n",
       "      <th>X</th>\n",
       "      <th>Y</th>\n",
       "      <th>text</th>\n",
       "      <th>pre_text</th>\n",
       "      <th>vector</th>\n",
       "    </tr>\n",
       "  </thead>\n",
       "  <tbody>\n",
       "    <tr>\n",
       "      <th>0</th>\n",
       "      <td>[1, 14, 22, 16, 43, 530, 973, 1622, 1385, 65, ...</td>\n",
       "      <td>1</td>\n",
       "      <td>this film was just brilliant casting location...</td>\n",
       "      <td>film brilliant cast location scenery story d...</td>\n",
       "      <td>[-0.49241343, 0.22992784, -1.9614998, -2.44784...</td>\n",
       "    </tr>\n",
       "    <tr>\n",
       "      <th>1</th>\n",
       "      <td>[1, 194, 1153, 194, 8255, 78, 228, 5, 6, 1463,...</td>\n",
       "      <td>0</td>\n",
       "      <td>big hair big boobs bad music and a giant safe...</td>\n",
       "      <td>big hair big boob bad music giant safety pin...</td>\n",
       "      <td>[-0.4520517, 0.6301006, -1.7863605, -1.3567178...</td>\n",
       "    </tr>\n",
       "    <tr>\n",
       "      <th>2</th>\n",
       "      <td>[1, 14, 47, 8, 30, 31, 7, 4, 249, 108, 7, 4, 5...</td>\n",
       "      <td>0</td>\n",
       "      <td>this has to be one of the worst films of the ...</td>\n",
       "      <td>bad film 1990 friend watch film target audie...</td>\n",
       "      <td>[-0.58676946, 1.1265762, -2.6766188, -1.314009...</td>\n",
       "    </tr>\n",
       "    <tr>\n",
       "      <th>3</th>\n",
       "      <td>[1, 4, 18609, 16085, 33, 2804, 4, 2040, 432, 1...</td>\n",
       "      <td>1</td>\n",
       "      <td>the scots excel at storytelling the tradition...</td>\n",
       "      <td>scot excel storytelle traditional sort year ...</td>\n",
       "      <td>[-0.12821278, 0.26851207, -1.1525749, -1.29237...</td>\n",
       "    </tr>\n",
       "    <tr>\n",
       "      <th>4</th>\n",
       "      <td>[1, 249, 1323, 7, 61, 113, 10, 10, 13, 1637, 1...</td>\n",
       "      <td>0</td>\n",
       "      <td>worst mistake of my life br br i picked this ...</td>\n",
       "      <td>bad mistake life br br pick movie target 5 f...</td>\n",
       "      <td>[-0.37964636, 0.45462498, -2.716358, -0.844779...</td>\n",
       "    </tr>\n",
       "  </tbody>\n",
       "</table>\n",
       "</div>"
      ],
      "text/plain": [
       "                                                   X  Y  \\\n",
       "0  [1, 14, 22, 16, 43, 530, 973, 1622, 1385, 65, ...  1   \n",
       "1  [1, 194, 1153, 194, 8255, 78, 228, 5, 6, 1463,...  0   \n",
       "2  [1, 14, 47, 8, 30, 31, 7, 4, 249, 108, 7, 4, 5...  0   \n",
       "3  [1, 4, 18609, 16085, 33, 2804, 4, 2040, 432, 1...  1   \n",
       "4  [1, 249, 1323, 7, 61, 113, 10, 10, 13, 1637, 1...  0   \n",
       "\n",
       "                                                text  \\\n",
       "0   this film was just brilliant casting location...   \n",
       "1   big hair big boobs bad music and a giant safe...   \n",
       "2   this has to be one of the worst films of the ...   \n",
       "3   the scots excel at storytelling the tradition...   \n",
       "4   worst mistake of my life br br i picked this ...   \n",
       "\n",
       "                                            pre_text  \\\n",
       "0    film brilliant cast location scenery story d...   \n",
       "1    big hair big boob bad music giant safety pin...   \n",
       "2    bad film 1990 friend watch film target audie...   \n",
       "3    scot excel storytelle traditional sort year ...   \n",
       "4    bad mistake life br br pick movie target 5 f...   \n",
       "\n",
       "                                              vector  \n",
       "0  [-0.49241343, 0.22992784, -1.9614998, -2.44784...  \n",
       "1  [-0.4520517, 0.6301006, -1.7863605, -1.3567178...  \n",
       "2  [-0.58676946, 1.1265762, -2.6766188, -1.314009...  \n",
       "3  [-0.12821278, 0.26851207, -1.1525749, -1.29237...  \n",
       "4  [-0.37964636, 0.45462498, -2.716358, -0.844779...  "
      ]
     },
     "execution_count": 16,
     "metadata": {},
     "output_type": "execute_result"
    }
   ],
   "source": [
    "df.head()"
   ]
  },
  {
   "cell_type": "code",
   "execution_count": 17,
   "id": "b9560080",
   "metadata": {
    "execution": {
     "iopub.execute_input": "2024-08-03T10:22:46.687354Z",
     "iopub.status.busy": "2024-08-03T10:22:46.687073Z",
     "iopub.status.idle": "2024-08-03T10:22:46.690926Z",
     "shell.execute_reply": "2024-08-03T10:22:46.690079Z"
    },
    "papermill": {
     "duration": 0.018077,
     "end_time": "2024-08-03T10:22:46.692840",
     "exception": false,
     "start_time": "2024-08-03T10:22:46.674763",
     "status": "completed"
    },
    "tags": []
   },
   "outputs": [],
   "source": [
    "scaler = MinMaxScaler()"
   ]
  },
  {
   "cell_type": "code",
   "execution_count": 18,
   "id": "0e699d53",
   "metadata": {
    "execution": {
     "iopub.execute_input": "2024-08-03T10:22:46.717038Z",
     "iopub.status.busy": "2024-08-03T10:22:46.716767Z",
     "iopub.status.idle": "2024-08-03T10:22:46.749271Z",
     "shell.execute_reply": "2024-08-03T10:22:46.748342Z"
    },
    "papermill": {
     "duration": 0.046754,
     "end_time": "2024-08-03T10:22:46.751256",
     "exception": false,
     "start_time": "2024-08-03T10:22:46.704502",
     "status": "completed"
    },
    "tags": []
   },
   "outputs": [
    {
     "data": {
      "text/plain": [
       "(25000, 300)"
      ]
     },
     "execution_count": 18,
     "metadata": {},
     "output_type": "execute_result"
    }
   ],
   "source": [
    "X = df[\"vector\"].to_numpy()\n",
    "X = np.array(X.tolist())\n",
    "X.shape"
   ]
  },
  {
   "cell_type": "code",
   "execution_count": 19,
   "id": "a9491e98",
   "metadata": {
    "execution": {
     "iopub.execute_input": "2024-08-03T10:22:46.776296Z",
     "iopub.status.busy": "2024-08-03T10:22:46.775973Z",
     "iopub.status.idle": "2024-08-03T10:22:46.810980Z",
     "shell.execute_reply": "2024-08-03T10:22:46.810216Z"
    },
    "papermill": {
     "duration": 0.050036,
     "end_time": "2024-08-03T10:22:46.813410",
     "exception": false,
     "start_time": "2024-08-03T10:22:46.763374",
     "status": "completed"
    },
    "tags": []
   },
   "outputs": [],
   "source": [
    "X = scaler.fit_transform(X)"
   ]
  },
  {
   "cell_type": "code",
   "execution_count": 20,
   "id": "74808629",
   "metadata": {
    "execution": {
     "iopub.execute_input": "2024-08-03T10:22:46.838779Z",
     "iopub.status.busy": "2024-08-03T10:22:46.838045Z",
     "iopub.status.idle": "2024-08-03T10:22:46.842464Z",
     "shell.execute_reply": "2024-08-03T10:22:46.841632Z"
    },
    "papermill": {
     "duration": 0.018896,
     "end_time": "2024-08-03T10:22:46.844380",
     "exception": false,
     "start_time": "2024-08-03T10:22:46.825484",
     "status": "completed"
    },
    "tags": []
   },
   "outputs": [],
   "source": [
    "Y = df[\"Y\"].to_numpy().astype(np.uint8)"
   ]
  },
  {
   "cell_type": "code",
   "execution_count": 21,
   "id": "e96a304b",
   "metadata": {
    "execution": {
     "iopub.execute_input": "2024-08-03T10:22:46.868547Z",
     "iopub.status.busy": "2024-08-03T10:22:46.868276Z",
     "iopub.status.idle": "2024-08-03T10:22:46.884843Z",
     "shell.execute_reply": "2024-08-03T10:22:46.883955Z"
    },
    "papermill": {
     "duration": 0.031053,
     "end_time": "2024-08-03T10:22:46.886992",
     "exception": false,
     "start_time": "2024-08-03T10:22:46.855939",
     "status": "completed"
    },
    "tags": []
   },
   "outputs": [],
   "source": [
    "X_train, X_test, y_train, y_test =  train_test_split(X, Y, test_size=0.2, random_state=42)"
   ]
  },
  {
   "cell_type": "code",
   "execution_count": 22,
   "id": "00dd4372",
   "metadata": {
    "execution": {
     "iopub.execute_input": "2024-08-03T10:22:46.911729Z",
     "iopub.status.busy": "2024-08-03T10:22:46.911464Z",
     "iopub.status.idle": "2024-08-03T10:22:46.916834Z",
     "shell.execute_reply": "2024-08-03T10:22:46.916018Z"
    },
    "papermill": {
     "duration": 0.01985,
     "end_time": "2024-08-03T10:22:46.918793",
     "exception": false,
     "start_time": "2024-08-03T10:22:46.898943",
     "status": "completed"
    },
    "tags": []
   },
   "outputs": [
    {
     "data": {
      "text/plain": [
       "(20000, 300)"
      ]
     },
     "execution_count": 22,
     "metadata": {},
     "output_type": "execute_result"
    }
   ],
   "source": [
    "X_train.shape"
   ]
  },
  {
   "cell_type": "code",
   "execution_count": 23,
   "id": "548bb2f0",
   "metadata": {
    "execution": {
     "iopub.execute_input": "2024-08-03T10:22:46.943055Z",
     "iopub.status.busy": "2024-08-03T10:22:46.942796Z",
     "iopub.status.idle": "2024-08-03T10:22:46.948729Z",
     "shell.execute_reply": "2024-08-03T10:22:46.947907Z"
    },
    "papermill": {
     "duration": 0.020125,
     "end_time": "2024-08-03T10:22:46.950576",
     "exception": false,
     "start_time": "2024-08-03T10:22:46.930451",
     "status": "completed"
    },
    "tags": []
   },
   "outputs": [
    {
     "data": {
      "text/plain": [
       "(20000,)"
      ]
     },
     "execution_count": 23,
     "metadata": {},
     "output_type": "execute_result"
    }
   ],
   "source": [
    "y_train.shape"
   ]
  },
  {
   "cell_type": "code",
   "execution_count": 24,
   "id": "5738071f",
   "metadata": {
    "execution": {
     "iopub.execute_input": "2024-08-03T10:22:46.975147Z",
     "iopub.status.busy": "2024-08-03T10:22:46.974889Z",
     "iopub.status.idle": "2024-08-03T10:22:46.978747Z",
     "shell.execute_reply": "2024-08-03T10:22:46.977954Z"
    },
    "papermill": {
     "duration": 0.018102,
     "end_time": "2024-08-03T10:22:46.980524",
     "exception": false,
     "start_time": "2024-08-03T10:22:46.962422",
     "status": "completed"
    },
    "tags": []
   },
   "outputs": [],
   "source": [
    "input_size = 300\n",
    "num_classes = 2\n",
    "batch_size = 16\n",
    "dropout = 0.2"
   ]
  },
  {
   "cell_type": "code",
   "execution_count": 25,
   "id": "e92601f7",
   "metadata": {
    "execution": {
     "iopub.execute_input": "2024-08-03T10:22:47.005169Z",
     "iopub.status.busy": "2024-08-03T10:22:47.004914Z",
     "iopub.status.idle": "2024-08-03T10:22:47.514867Z",
     "shell.execute_reply": "2024-08-03T10:22:47.514109Z"
    },
    "papermill": {
     "duration": 0.524493,
     "end_time": "2024-08-03T10:22:47.516830",
     "exception": false,
     "start_time": "2024-08-03T10:22:46.992337",
     "status": "completed"
    },
    "tags": []
   },
   "outputs": [],
   "source": [
    "model = Sequential([\n",
    "    Dense(input_size, activation=\"relu\"),\n",
    "    Dropout(dropout),\n",
    "    BatchNormalization(),\n",
    "    \n",
    "    Dense(300, activation=\"relu\"),\n",
    "    Dropout(dropout),\n",
    "    BatchNormalization(),\n",
    "    \n",
    "    Dense(100, activation=\"relu\"),\n",
    "    Dropout(dropout),\n",
    "    BatchNormalization(),\n",
    "    \n",
    "    Dense(100, activation=\"relu\"),\n",
    "    Dropout(dropout),\n",
    "    BatchNormalization(),\n",
    "    \n",
    "    Dense(num_classes, activation=\"softmax\")\n",
    "])"
   ]
  },
  {
   "cell_type": "code",
   "execution_count": 26,
   "id": "dac67941",
   "metadata": {
    "execution": {
     "iopub.execute_input": "2024-08-03T10:22:47.590223Z",
     "iopub.status.busy": "2024-08-03T10:22:47.589869Z",
     "iopub.status.idle": "2024-08-03T10:22:47.595798Z",
     "shell.execute_reply": "2024-08-03T10:22:47.594985Z"
    },
    "papermill": {
     "duration": 0.023732,
     "end_time": "2024-08-03T10:22:47.600579",
     "exception": false,
     "start_time": "2024-08-03T10:22:47.576847",
     "status": "completed"
    },
    "tags": []
   },
   "outputs": [
    {
     "data": {
      "text/plain": [
       "[PhysicalDevice(name='/physical_device:CPU:0', device_type='CPU'),\n",
       " PhysicalDevice(name='/physical_device:GPU:0', device_type='GPU')]"
      ]
     },
     "execution_count": 26,
     "metadata": {},
     "output_type": "execute_result"
    }
   ],
   "source": [
    "tf.config.list_physical_devices()"
   ]
  },
  {
   "cell_type": "code",
   "execution_count": 27,
   "id": "897cb104",
   "metadata": {
    "execution": {
     "iopub.execute_input": "2024-08-03T10:22:47.626440Z",
     "iopub.status.busy": "2024-08-03T10:22:47.625679Z",
     "iopub.status.idle": "2024-08-03T10:23:23.848640Z",
     "shell.execute_reply": "2024-08-03T10:23:23.847722Z"
    },
    "papermill": {
     "duration": 36.238083,
     "end_time": "2024-08-03T10:23:23.850687",
     "exception": false,
     "start_time": "2024-08-03T10:22:47.612604",
     "status": "completed"
    },
    "tags": []
   },
   "outputs": [
    {
     "name": "stdout",
     "output_type": "stream",
     "text": [
      "Epoch 1/20\n",
      "\u001b[1m 73/500\u001b[0m \u001b[32m━━\u001b[0m\u001b[37m━━━━━━━━━━━━━━━━━━\u001b[0m \u001b[1m0s\u001b[0m 2ms/step - accuracy: 0.5060 - loss: 1.0538"
     ]
    },
    {
     "name": "stderr",
     "output_type": "stream",
     "text": [
      "WARNING: All log messages before absl::InitializeLog() is called are written to STDERR\n",
      "I0000 00:00:1722680577.628401      67 device_compiler.h:186] Compiled cluster using XLA!  This line is logged at most once for the lifetime of the process.\n"
     ]
    },
    {
     "name": "stdout",
     "output_type": "stream",
     "text": [
      "\u001b[1m500/500\u001b[0m \u001b[32m━━━━━━━━━━━━━━━━━━━━\u001b[0m\u001b[37m\u001b[0m \u001b[1m12s\u001b[0m 3ms/step - accuracy: 0.5481 - loss: 0.8653 - val_accuracy: 0.5020 - val_loss: 0.7375\n",
      "Epoch 2/20\n",
      "\u001b[1m500/500\u001b[0m \u001b[32m━━━━━━━━━━━━━━━━━━━━\u001b[0m\u001b[37m\u001b[0m \u001b[1m1s\u001b[0m 2ms/step - accuracy: 0.6465 - loss: 0.6281 - val_accuracy: 0.6267 - val_loss: 0.6136\n",
      "Epoch 3/20\n",
      "\u001b[1m500/500\u001b[0m \u001b[32m━━━━━━━━━━━━━━━━━━━━\u001b[0m\u001b[37m\u001b[0m \u001b[1m1s\u001b[0m 2ms/step - accuracy: 0.7155 - loss: 0.5525 - val_accuracy: 0.7190 - val_loss: 0.5487\n",
      "Epoch 4/20\n",
      "\u001b[1m500/500\u001b[0m \u001b[32m━━━━━━━━━━━━━━━━━━━━\u001b[0m\u001b[37m\u001b[0m \u001b[1m1s\u001b[0m 2ms/step - accuracy: 0.7193 - loss: 0.5246 - val_accuracy: 0.7745 - val_loss: 0.4671\n",
      "Epoch 5/20\n",
      "\u001b[1m500/500\u001b[0m \u001b[32m━━━━━━━━━━━━━━━━━━━━\u001b[0m\u001b[37m\u001b[0m \u001b[1m1s\u001b[0m 2ms/step - accuracy: 0.7361 - loss: 0.5010 - val_accuracy: 0.5153 - val_loss: 1.2500\n",
      "Epoch 6/20\n",
      "\u001b[1m500/500\u001b[0m \u001b[32m━━━━━━━━━━━━━━━━━━━━\u001b[0m\u001b[37m\u001b[0m \u001b[1m1s\u001b[0m 2ms/step - accuracy: 0.7488 - loss: 0.4838 - val_accuracy: 0.5115 - val_loss: 1.5112\n",
      "Epoch 7/20\n",
      "\u001b[1m500/500\u001b[0m \u001b[32m━━━━━━━━━━━━━━━━━━━━\u001b[0m\u001b[37m\u001b[0m \u001b[1m1s\u001b[0m 2ms/step - accuracy: 0.7500 - loss: 0.4824 - val_accuracy: 0.6348 - val_loss: 0.7724\n",
      "Epoch 8/20\n",
      "\u001b[1m500/500\u001b[0m \u001b[32m━━━━━━━━━━━━━━━━━━━━\u001b[0m\u001b[37m\u001b[0m \u001b[1m1s\u001b[0m 2ms/step - accuracy: 0.7492 - loss: 0.4781 - val_accuracy: 0.6043 - val_loss: 0.7741\n",
      "Epoch 9/20\n",
      "\u001b[1m500/500\u001b[0m \u001b[32m━━━━━━━━━━━━━━━━━━━━\u001b[0m\u001b[37m\u001b[0m \u001b[1m1s\u001b[0m 2ms/step - accuracy: 0.7516 - loss: 0.4725 - val_accuracy: 0.5548 - val_loss: 0.8555\n",
      "Epoch 10/20\n",
      "\u001b[1m500/500\u001b[0m \u001b[32m━━━━━━━━━━━━━━━━━━━━\u001b[0m\u001b[37m\u001b[0m \u001b[1m1s\u001b[0m 2ms/step - accuracy: 0.7623 - loss: 0.4632 - val_accuracy: 0.5225 - val_loss: 1.3914\n",
      "Epoch 11/20\n",
      "\u001b[1m500/500\u001b[0m \u001b[32m━━━━━━━━━━━━━━━━━━━━\u001b[0m\u001b[37m\u001b[0m \u001b[1m2s\u001b[0m 2ms/step - accuracy: 0.7607 - loss: 0.4700 - val_accuracy: 0.5543 - val_loss: 0.9582\n",
      "Epoch 12/20\n",
      "\u001b[1m500/500\u001b[0m \u001b[32m━━━━━━━━━━━━━━━━━━━━\u001b[0m\u001b[37m\u001b[0m \u001b[1m1s\u001b[0m 2ms/step - accuracy: 0.7564 - loss: 0.4595 - val_accuracy: 0.5493 - val_loss: 0.9798\n",
      "Epoch 13/20\n",
      "\u001b[1m500/500\u001b[0m \u001b[32m━━━━━━━━━━━━━━━━━━━━\u001b[0m\u001b[37m\u001b[0m \u001b[1m1s\u001b[0m 2ms/step - accuracy: 0.7576 - loss: 0.4635 - val_accuracy: 0.5430 - val_loss: 1.1557\n",
      "Epoch 14/20\n",
      "\u001b[1m500/500\u001b[0m \u001b[32m━━━━━━━━━━━━━━━━━━━━\u001b[0m\u001b[37m\u001b[0m \u001b[1m1s\u001b[0m 2ms/step - accuracy: 0.7552 - loss: 0.4645 - val_accuracy: 0.5073 - val_loss: 1.2811\n",
      "Epoch 15/20\n",
      "\u001b[1m500/500\u001b[0m \u001b[32m━━━━━━━━━━━━━━━━━━━━\u001b[0m\u001b[37m\u001b[0m \u001b[1m1s\u001b[0m 2ms/step - accuracy: 0.7523 - loss: 0.4729 - val_accuracy: 0.7085 - val_loss: 0.5481\n",
      "Epoch 16/20\n",
      "\u001b[1m500/500\u001b[0m \u001b[32m━━━━━━━━━━━━━━━━━━━━\u001b[0m\u001b[37m\u001b[0m \u001b[1m1s\u001b[0m 2ms/step - accuracy: 0.7565 - loss: 0.4626 - val_accuracy: 0.6503 - val_loss: 0.5783\n",
      "Epoch 17/20\n",
      "\u001b[1m500/500\u001b[0m \u001b[32m━━━━━━━━━━━━━━━━━━━━\u001b[0m\u001b[37m\u001b[0m \u001b[1m1s\u001b[0m 2ms/step - accuracy: 0.7557 - loss: 0.4672 - val_accuracy: 0.7837 - val_loss: 0.4510\n",
      "Epoch 18/20\n",
      "\u001b[1m500/500\u001b[0m \u001b[32m━━━━━━━━━━━━━━━━━━━━\u001b[0m\u001b[37m\u001b[0m \u001b[1m1s\u001b[0m 2ms/step - accuracy: 0.7644 - loss: 0.4590 - val_accuracy: 0.5163 - val_loss: 1.3355\n",
      "Epoch 19/20\n",
      "\u001b[1m500/500\u001b[0m \u001b[32m━━━━━━━━━━━━━━━━━━━━\u001b[0m\u001b[37m\u001b[0m \u001b[1m1s\u001b[0m 2ms/step - accuracy: 0.7484 - loss: 0.4669 - val_accuracy: 0.7825 - val_loss: 0.4704\n",
      "Epoch 20/20\n",
      "\u001b[1m500/500\u001b[0m \u001b[32m━━━━━━━━━━━━━━━━━━━━\u001b[0m\u001b[37m\u001b[0m \u001b[1m1s\u001b[0m 2ms/step - accuracy: 0.7589 - loss: 0.4628 - val_accuracy: 0.6130 - val_loss: 0.7215\n"
     ]
    },
    {
     "data": {
      "text/plain": [
       "<keras.src.callbacks.history.History at 0x788de85456c0>"
      ]
     },
     "execution_count": 27,
     "metadata": {},
     "output_type": "execute_result"
    }
   ],
   "source": [
    "X_train = tf.cast(X_train, dtype=tf.float32)  \n",
    "y_train = tf.cast(y_train, dtype=tf.int32)  \n",
    "model.compile(optimizer=\"adam\", loss=\"sparse_categorical_crossentropy\", metrics=[\"accuracy\"])\n",
    "model.fit(X_train, y_train, epochs=20, validation_split=0.2, batch_size=32)"
   ]
  },
  {
   "cell_type": "code",
   "execution_count": null,
   "id": "8bc35605",
   "metadata": {
    "papermill": {
     "duration": 0.046132,
     "end_time": "2024-08-03T10:23:23.943802",
     "exception": false,
     "start_time": "2024-08-03T10:23:23.897670",
     "status": "completed"
    },
    "tags": []
   },
   "outputs": [],
   "source": []
  }
 ],
 "metadata": {
  "kaggle": {
   "accelerator": "gpu",
   "dataSources": [],
   "dockerImageVersionId": 30746,
   "isGpuEnabled": true,
   "isInternetEnabled": true,
   "language": "python",
   "sourceType": "notebook"
  },
  "kernelspec": {
   "display_name": "Python 3",
   "language": "python",
   "name": "python3"
  },
  "language_info": {
   "codemirror_mode": {
    "name": "ipython",
    "version": 3
   },
   "file_extension": ".py",
   "mimetype": "text/x-python",
   "name": "python",
   "nbconvert_exporter": "python",
   "pygments_lexer": "ipython3",
   "version": "3.10.13"
  },
  "papermill": {
   "default_parameters": {},
   "duration": 1630.930915,
   "end_time": "2024-08-03T10:23:27.593842",
   "environment_variables": {},
   "exception": null,
   "input_path": "__notebook__.ipynb",
   "output_path": "__notebook__.ipynb",
   "parameters": {},
   "start_time": "2024-08-03T09:56:16.662927",
   "version": "2.5.0"
  }
 },
 "nbformat": 4,
 "nbformat_minor": 5
}
