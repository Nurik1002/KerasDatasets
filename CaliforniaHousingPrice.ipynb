{
 "cells": [
  {
   "cell_type": "markdown",
   "id": "8c528b09",
   "metadata": {
    "papermill": {
     "duration": 0.007099,
     "end_time": "2024-07-28T13:08:39.232969",
     "exception": false,
     "start_time": "2024-07-28T13:08:39.225870",
     "status": "completed"
    },
    "tags": []
   },
   "source": [
    "## With Keras"
   ]
  },
  {
   "cell_type": "code",
   "execution_count": 1,
   "id": "9566cc26",
   "metadata": {
    "_cell_guid": "b1076dfc-b9ad-4769-8c92-a6c4dae69d19",
    "_uuid": "8f2839f25d086af736a60e9eeb907d3b93b6e0e5",
    "execution": {
     "iopub.execute_input": "2024-07-28T13:08:39.247728Z",
     "iopub.status.busy": "2024-07-28T13:08:39.247377Z",
     "iopub.status.idle": "2024-07-28T13:08:54.244528Z",
     "shell.execute_reply": "2024-07-28T13:08:54.243554Z"
    },
    "papermill": {
     "duration": 15.007246,
     "end_time": "2024-07-28T13:08:54.247020",
     "exception": false,
     "start_time": "2024-07-28T13:08:39.239774",
     "status": "completed"
    },
    "tags": []
   },
   "outputs": [
    {
     "name": "stderr",
     "output_type": "stream",
     "text": [
      "2024-07-28 13:08:41.365760: E external/local_xla/xla/stream_executor/cuda/cuda_dnn.cc:9261] Unable to register cuDNN factory: Attempting to register factory for plugin cuDNN when one has already been registered\n",
      "2024-07-28 13:08:41.365858: E external/local_xla/xla/stream_executor/cuda/cuda_fft.cc:607] Unable to register cuFFT factory: Attempting to register factory for plugin cuFFT when one has already been registered\n",
      "2024-07-28 13:08:41.495102: E external/local_xla/xla/stream_executor/cuda/cuda_blas.cc:1515] Unable to register cuBLAS factory: Attempting to register factory for plugin cuBLAS when one has already been registered\n"
     ]
    }
   ],
   "source": [
    "import tensorflow as tf\n",
    "from tensorflow.keras.models import Sequential\n",
    "from tensorflow.keras.layers import Dense\n",
    "from sklearn.preprocessing import  StandardScaler"
   ]
  },
  {
   "cell_type": "code",
   "execution_count": 2,
   "id": "44ec633a",
   "metadata": {
    "execution": {
     "iopub.execute_input": "2024-07-28T13:08:54.262368Z",
     "iopub.status.busy": "2024-07-28T13:08:54.261848Z",
     "iopub.status.idle": "2024-07-28T13:08:54.375179Z",
     "shell.execute_reply": "2024-07-28T13:08:54.374486Z"
    },
    "papermill": {
     "duration": 0.123263,
     "end_time": "2024-07-28T13:08:54.377399",
     "exception": false,
     "start_time": "2024-07-28T13:08:54.254136",
     "status": "completed"
    },
    "tags": []
   },
   "outputs": [
    {
     "name": "stdout",
     "output_type": "stream",
     "text": [
      "Downloading data from https://storage.googleapis.com/tensorflow/tf-keras-datasets/california_housing.npz\n",
      "\u001b[1m743530/743530\u001b[0m \u001b[32m━━━━━━━━━━━━━━━━━━━━\u001b[0m\u001b[37m\u001b[0m \u001b[1m0s\u001b[0m 0us/step\n"
     ]
    }
   ],
   "source": [
    "(x_train, y_train), (x_test, y_test) = tf.keras.datasets.california_housing.load_data(\n",
    "    version=\"large\", path=\"california_housing.npz\", test_split=0.2, seed=113\n",
    ")"
   ]
  },
  {
   "cell_type": "code",
   "execution_count": 3,
   "id": "2e689b17",
   "metadata": {
    "execution": {
     "iopub.execute_input": "2024-07-28T13:08:54.392984Z",
     "iopub.status.busy": "2024-07-28T13:08:54.392207Z",
     "iopub.status.idle": "2024-07-28T13:08:54.398749Z",
     "shell.execute_reply": "2024-07-28T13:08:54.397929Z"
    },
    "papermill": {
     "duration": 0.016148,
     "end_time": "2024-07-28T13:08:54.400742",
     "exception": false,
     "start_time": "2024-07-28T13:08:54.384594",
     "status": "completed"
    },
    "tags": []
   },
   "outputs": [
    {
     "data": {
      "text/plain": [
       "(16512, 8)"
      ]
     },
     "execution_count": 3,
     "metadata": {},
     "output_type": "execute_result"
    }
   ],
   "source": [
    "x_train.shape"
   ]
  },
  {
   "cell_type": "code",
   "execution_count": 4,
   "id": "bfc59cf7",
   "metadata": {
    "execution": {
     "iopub.execute_input": "2024-07-28T13:08:54.415573Z",
     "iopub.status.busy": "2024-07-28T13:08:54.415307Z",
     "iopub.status.idle": "2024-07-28T13:08:54.420530Z",
     "shell.execute_reply": "2024-07-28T13:08:54.419647Z"
    },
    "papermill": {
     "duration": 0.014922,
     "end_time": "2024-07-28T13:08:54.422522",
     "exception": false,
     "start_time": "2024-07-28T13:08:54.407600",
     "status": "completed"
    },
    "tags": []
   },
   "outputs": [
    {
     "data": {
      "text/plain": [
       "dtype('float32')"
      ]
     },
     "execution_count": 4,
     "metadata": {},
     "output_type": "execute_result"
    }
   ],
   "source": [
    "x_train.dtype"
   ]
  },
  {
   "cell_type": "code",
   "execution_count": 5,
   "id": "e53d96c8",
   "metadata": {
    "execution": {
     "iopub.execute_input": "2024-07-28T13:08:54.437554Z",
     "iopub.status.busy": "2024-07-28T13:08:54.437292Z",
     "iopub.status.idle": "2024-07-28T13:08:54.442921Z",
     "shell.execute_reply": "2024-07-28T13:08:54.442133Z"
    },
    "papermill": {
     "duration": 0.015333,
     "end_time": "2024-07-28T13:08:54.444825",
     "exception": false,
     "start_time": "2024-07-28T13:08:54.429492",
     "status": "completed"
    },
    "tags": []
   },
   "outputs": [
    {
     "data": {
      "text/plain": [
       "array([-118.27  ,   34.09  ,   52.    , 2327.    ,  555.    , 1048.    ,\n",
       "        491.    ,    3.7847], dtype=float32)"
      ]
     },
     "execution_count": 5,
     "metadata": {},
     "output_type": "execute_result"
    }
   ],
   "source": [
    "x_train[0]"
   ]
  },
  {
   "cell_type": "code",
   "execution_count": 6,
   "id": "26013ece",
   "metadata": {
    "execution": {
     "iopub.execute_input": "2024-07-28T13:08:54.460960Z",
     "iopub.status.busy": "2024-07-28T13:08:54.460179Z",
     "iopub.status.idle": "2024-07-28T13:08:54.472673Z",
     "shell.execute_reply": "2024-07-28T13:08:54.471948Z"
    },
    "papermill": {
     "duration": 0.022575,
     "end_time": "2024-07-28T13:08:54.474581",
     "exception": false,
     "start_time": "2024-07-28T13:08:54.452006",
     "status": "completed"
    },
    "tags": []
   },
   "outputs": [],
   "source": [
    "scaler = StandardScaler()\n",
    "x_train = scaler.fit_transform(x_train)\n",
    "x_test = scaler.transform(x_test)\n",
    "\n",
    "y_train = (y_train - y_train.mean()) / y_train.std()\n",
    "y_test = (y_test - y_train.mean()) / y_train.std()"
   ]
  },
  {
   "cell_type": "code",
   "execution_count": 7,
   "id": "16f553fc",
   "metadata": {
    "execution": {
     "iopub.execute_input": "2024-07-28T13:08:54.490124Z",
     "iopub.status.busy": "2024-07-28T13:08:54.489886Z",
     "iopub.status.idle": "2024-07-28T13:08:54.495394Z",
     "shell.execute_reply": "2024-07-28T13:08:54.494583Z"
    },
    "papermill": {
     "duration": 0.01559,
     "end_time": "2024-07-28T13:08:54.497446",
     "exception": false,
     "start_time": "2024-07-28T13:08:54.481856",
     "status": "completed"
    },
    "tags": []
   },
   "outputs": [
    {
     "data": {
      "text/plain": [
       "array([ 0.6457759 , -0.7209302 ,  1.8532751 , -0.14375815,  0.03619913,\n",
       "       -0.3331862 , -0.02698459, -0.04505231], dtype=float32)"
      ]
     },
     "execution_count": 7,
     "metadata": {},
     "output_type": "execute_result"
    }
   ],
   "source": [
    "x_train[0]"
   ]
  },
  {
   "cell_type": "code",
   "execution_count": 8,
   "id": "77bd899d",
   "metadata": {
    "execution": {
     "iopub.execute_input": "2024-07-28T13:08:54.513602Z",
     "iopub.status.busy": "2024-07-28T13:08:54.513324Z",
     "iopub.status.idle": "2024-07-28T13:08:54.518733Z",
     "shell.execute_reply": "2024-07-28T13:08:54.517922Z"
    },
    "papermill": {
     "duration": 0.016133,
     "end_time": "2024-07-28T13:08:54.520837",
     "exception": false,
     "start_time": "2024-07-28T13:08:54.504704",
     "status": "completed"
    },
    "tags": []
   },
   "outputs": [
    {
     "data": {
      "text/plain": [
       "array([ 0.60079885, -0.7256249 ,  1.2975911 , -0.20348448, -0.13276172,\n",
       "       -0.1455231 , -0.11987179, -0.25494424], dtype=float32)"
      ]
     },
     "execution_count": 8,
     "metadata": {},
     "output_type": "execute_result"
    }
   ],
   "source": [
    "x_test[0]"
   ]
  },
  {
   "cell_type": "code",
   "execution_count": 9,
   "id": "464fe52d",
   "metadata": {
    "execution": {
     "iopub.execute_input": "2024-07-28T13:08:54.537814Z",
     "iopub.status.busy": "2024-07-28T13:08:54.537529Z",
     "iopub.status.idle": "2024-07-28T13:08:55.419016Z",
     "shell.execute_reply": "2024-07-28T13:08:55.418233Z"
    },
    "papermill": {
     "duration": 0.891835,
     "end_time": "2024-07-28T13:08:55.421120",
     "exception": false,
     "start_time": "2024-07-28T13:08:54.529285",
     "status": "completed"
    },
    "tags": []
   },
   "outputs": [
    {
     "name": "stderr",
     "output_type": "stream",
     "text": [
      "/opt/conda/lib/python3.10/site-packages/keras/src/layers/core/dense.py:87: UserWarning: Do not pass an `input_shape`/`input_dim` argument to a layer. When using Sequential models, prefer using an `Input(shape)` object as the first layer in the model instead.\n",
      "  super().__init__(activity_regularizer=activity_regularizer, **kwargs)\n"
     ]
    }
   ],
   "source": [
    "model = Sequential([\n",
    "    Dense(64, activation='relu', input_shape=(x_train.shape[1],)),\n",
    "    Dense(32, activation='relu'),\n",
    "    Dense(1)  \n",
    "])"
   ]
  },
  {
   "cell_type": "code",
   "execution_count": 10,
   "id": "9122f324",
   "metadata": {
    "execution": {
     "iopub.execute_input": "2024-07-28T13:08:55.438128Z",
     "iopub.status.busy": "2024-07-28T13:08:55.437837Z",
     "iopub.status.idle": "2024-07-28T13:08:55.456205Z",
     "shell.execute_reply": "2024-07-28T13:08:55.455353Z"
    },
    "papermill": {
     "duration": 0.028923,
     "end_time": "2024-07-28T13:08:55.458232",
     "exception": false,
     "start_time": "2024-07-28T13:08:55.429309",
     "status": "completed"
    },
    "tags": []
   },
   "outputs": [
    {
     "data": {
      "text/html": [
       "<pre style=\"white-space:pre;overflow-x:auto;line-height:normal;font-family:Menlo,'DejaVu Sans Mono',consolas,'Courier New',monospace\"><span style=\"font-weight: bold\">Model: \"sequential\"</span>\n",
       "</pre>\n"
      ],
      "text/plain": [
       "\u001b[1mModel: \"sequential\"\u001b[0m\n"
      ]
     },
     "metadata": {},
     "output_type": "display_data"
    },
    {
     "data": {
      "text/html": [
       "<pre style=\"white-space:pre;overflow-x:auto;line-height:normal;font-family:Menlo,'DejaVu Sans Mono',consolas,'Courier New',monospace\">┏━━━━━━━━━━━━━━━━━━━━━━━━━━━━━━━━━┳━━━━━━━━━━━━━━━━━━━━━━━━┳━━━━━━━━━━━━━━━┓\n",
       "┃<span style=\"font-weight: bold\"> Layer (type)                    </span>┃<span style=\"font-weight: bold\"> Output Shape           </span>┃<span style=\"font-weight: bold\">       Param # </span>┃\n",
       "┡━━━━━━━━━━━━━━━━━━━━━━━━━━━━━━━━━╇━━━━━━━━━━━━━━━━━━━━━━━━╇━━━━━━━━━━━━━━━┩\n",
       "│ dense (<span style=\"color: #0087ff; text-decoration-color: #0087ff\">Dense</span>)                   │ (<span style=\"color: #00d7ff; text-decoration-color: #00d7ff\">None</span>, <span style=\"color: #00af00; text-decoration-color: #00af00\">64</span>)             │           <span style=\"color: #00af00; text-decoration-color: #00af00\">576</span> │\n",
       "├─────────────────────────────────┼────────────────────────┼───────────────┤\n",
       "│ dense_1 (<span style=\"color: #0087ff; text-decoration-color: #0087ff\">Dense</span>)                 │ (<span style=\"color: #00d7ff; text-decoration-color: #00d7ff\">None</span>, <span style=\"color: #00af00; text-decoration-color: #00af00\">32</span>)             │         <span style=\"color: #00af00; text-decoration-color: #00af00\">2,080</span> │\n",
       "├─────────────────────────────────┼────────────────────────┼───────────────┤\n",
       "│ dense_2 (<span style=\"color: #0087ff; text-decoration-color: #0087ff\">Dense</span>)                 │ (<span style=\"color: #00d7ff; text-decoration-color: #00d7ff\">None</span>, <span style=\"color: #00af00; text-decoration-color: #00af00\">1</span>)              │            <span style=\"color: #00af00; text-decoration-color: #00af00\">33</span> │\n",
       "└─────────────────────────────────┴────────────────────────┴───────────────┘\n",
       "</pre>\n"
      ],
      "text/plain": [
       "┏━━━━━━━━━━━━━━━━━━━━━━━━━━━━━━━━━┳━━━━━━━━━━━━━━━━━━━━━━━━┳━━━━━━━━━━━━━━━┓\n",
       "┃\u001b[1m \u001b[0m\u001b[1mLayer (type)                   \u001b[0m\u001b[1m \u001b[0m┃\u001b[1m \u001b[0m\u001b[1mOutput Shape          \u001b[0m\u001b[1m \u001b[0m┃\u001b[1m \u001b[0m\u001b[1m      Param #\u001b[0m\u001b[1m \u001b[0m┃\n",
       "┡━━━━━━━━━━━━━━━━━━━━━━━━━━━━━━━━━╇━━━━━━━━━━━━━━━━━━━━━━━━╇━━━━━━━━━━━━━━━┩\n",
       "│ dense (\u001b[38;5;33mDense\u001b[0m)                   │ (\u001b[38;5;45mNone\u001b[0m, \u001b[38;5;34m64\u001b[0m)             │           \u001b[38;5;34m576\u001b[0m │\n",
       "├─────────────────────────────────┼────────────────────────┼───────────────┤\n",
       "│ dense_1 (\u001b[38;5;33mDense\u001b[0m)                 │ (\u001b[38;5;45mNone\u001b[0m, \u001b[38;5;34m32\u001b[0m)             │         \u001b[38;5;34m2,080\u001b[0m │\n",
       "├─────────────────────────────────┼────────────────────────┼───────────────┤\n",
       "│ dense_2 (\u001b[38;5;33mDense\u001b[0m)                 │ (\u001b[38;5;45mNone\u001b[0m, \u001b[38;5;34m1\u001b[0m)              │            \u001b[38;5;34m33\u001b[0m │\n",
       "└─────────────────────────────────┴────────────────────────┴───────────────┘\n"
      ]
     },
     "metadata": {},
     "output_type": "display_data"
    },
    {
     "data": {
      "text/html": [
       "<pre style=\"white-space:pre;overflow-x:auto;line-height:normal;font-family:Menlo,'DejaVu Sans Mono',consolas,'Courier New',monospace\"><span style=\"font-weight: bold\"> Total params: </span><span style=\"color: #00af00; text-decoration-color: #00af00\">2,689</span> (10.50 KB)\n",
       "</pre>\n"
      ],
      "text/plain": [
       "\u001b[1m Total params: \u001b[0m\u001b[38;5;34m2,689\u001b[0m (10.50 KB)\n"
      ]
     },
     "metadata": {},
     "output_type": "display_data"
    },
    {
     "data": {
      "text/html": [
       "<pre style=\"white-space:pre;overflow-x:auto;line-height:normal;font-family:Menlo,'DejaVu Sans Mono',consolas,'Courier New',monospace\"><span style=\"font-weight: bold\"> Trainable params: </span><span style=\"color: #00af00; text-decoration-color: #00af00\">2,689</span> (10.50 KB)\n",
       "</pre>\n"
      ],
      "text/plain": [
       "\u001b[1m Trainable params: \u001b[0m\u001b[38;5;34m2,689\u001b[0m (10.50 KB)\n"
      ]
     },
     "metadata": {},
     "output_type": "display_data"
    },
    {
     "data": {
      "text/html": [
       "<pre style=\"white-space:pre;overflow-x:auto;line-height:normal;font-family:Menlo,'DejaVu Sans Mono',consolas,'Courier New',monospace\"><span style=\"font-weight: bold\"> Non-trainable params: </span><span style=\"color: #00af00; text-decoration-color: #00af00\">0</span> (0.00 B)\n",
       "</pre>\n"
      ],
      "text/plain": [
       "\u001b[1m Non-trainable params: \u001b[0m\u001b[38;5;34m0\u001b[0m (0.00 B)\n"
      ]
     },
     "metadata": {},
     "output_type": "display_data"
    }
   ],
   "source": [
    "model.summary()"
   ]
  },
  {
   "cell_type": "code",
   "execution_count": 11,
   "id": "acaafabf",
   "metadata": {
    "execution": {
     "iopub.execute_input": "2024-07-28T13:08:55.476287Z",
     "iopub.status.busy": "2024-07-28T13:08:55.476009Z",
     "iopub.status.idle": "2024-07-28T13:08:55.488876Z",
     "shell.execute_reply": "2024-07-28T13:08:55.488133Z"
    },
    "papermill": {
     "duration": 0.024239,
     "end_time": "2024-07-28T13:08:55.490800",
     "exception": false,
     "start_time": "2024-07-28T13:08:55.466561",
     "status": "completed"
    },
    "tags": []
   },
   "outputs": [],
   "source": [
    "model.compile(\n",
    "    optimizer='adam', \n",
    "    loss='mse',        \n",
    "    metrics=['mae']     \n",
    ")"
   ]
  },
  {
   "cell_type": "code",
   "execution_count": 12,
   "id": "87c083b2",
   "metadata": {
    "execution": {
     "iopub.execute_input": "2024-07-28T13:08:55.508368Z",
     "iopub.status.busy": "2024-07-28T13:08:55.508089Z",
     "iopub.status.idle": "2024-07-28T13:09:39.044191Z",
     "shell.execute_reply": "2024-07-28T13:09:39.043267Z"
    },
    "papermill": {
     "duration": 43.547119,
     "end_time": "2024-07-28T13:09:39.046183",
     "exception": false,
     "start_time": "2024-07-28T13:08:55.499064",
     "status": "completed"
    },
    "tags": []
   },
   "outputs": [
    {
     "name": "stdout",
     "output_type": "stream",
     "text": [
      "Epoch 1/100\n",
      "\u001b[1m110/207\u001b[0m \u001b[32m━━━━━━━━━━\u001b[0m\u001b[37m━━━━━━━━━━\u001b[0m \u001b[1m0s\u001b[0m 1ms/step - loss: 0.6662 - mae: 0.6136"
     ]
    },
    {
     "name": "stderr",
     "output_type": "stream",
     "text": [
      "WARNING: All log messages before absl::InitializeLog() is called are written to STDERR\n",
      "I0000 00:00:1722172137.990053      73 device_compiler.h:186] Compiled cluster using XLA!  This line is logged at most once for the lifetime of the process.\n"
     ]
    },
    {
     "name": "stdout",
     "output_type": "stream",
     "text": [
      "\u001b[1m207/207\u001b[0m \u001b[32m━━━━━━━━━━━━━━━━━━━━\u001b[0m\u001b[37m\u001b[0m \u001b[1m4s\u001b[0m 8ms/step - loss: 0.5602 - mae: 0.5537 - val_loss: 0.3097 - val_mae: 0.3978\n",
      "Epoch 2/100\n",
      "\u001b[1m207/207\u001b[0m \u001b[32m━━━━━━━━━━━━━━━━━━━━\u001b[0m\u001b[37m\u001b[0m \u001b[1m0s\u001b[0m 2ms/step - loss: 0.3005 - mae: 0.3942 - val_loss: 0.2873 - val_mae: 0.3806\n",
      "Epoch 3/100\n",
      "\u001b[1m207/207\u001b[0m \u001b[32m━━━━━━━━━━━━━━━━━━━━\u001b[0m\u001b[37m\u001b[0m \u001b[1m0s\u001b[0m 2ms/step - loss: 0.2657 - mae: 0.3676 - val_loss: 0.2789 - val_mae: 0.3750\n",
      "Epoch 4/100\n",
      "\u001b[1m207/207\u001b[0m \u001b[32m━━━━━━━━━━━━━━━━━━━━\u001b[0m\u001b[37m\u001b[0m \u001b[1m0s\u001b[0m 2ms/step - loss: 0.2575 - mae: 0.3606 - val_loss: 0.2739 - val_mae: 0.3562\n",
      "Epoch 5/100\n",
      "\u001b[1m207/207\u001b[0m \u001b[32m━━━━━━━━━━━━━━━━━━━━\u001b[0m\u001b[37m\u001b[0m \u001b[1m0s\u001b[0m 2ms/step - loss: 0.2592 - mae: 0.3576 - val_loss: 0.2670 - val_mae: 0.3724\n",
      "Epoch 6/100\n",
      "\u001b[1m207/207\u001b[0m \u001b[32m━━━━━━━━━━━━━━━━━━━━\u001b[0m\u001b[37m\u001b[0m \u001b[1m0s\u001b[0m 2ms/step - loss: 0.2490 - mae: 0.3535 - val_loss: 0.2603 - val_mae: 0.3524\n",
      "Epoch 7/100\n",
      "\u001b[1m207/207\u001b[0m \u001b[32m━━━━━━━━━━━━━━━━━━━━\u001b[0m\u001b[37m\u001b[0m \u001b[1m0s\u001b[0m 2ms/step - loss: 0.2491 - mae: 0.3531 - val_loss: 0.2542 - val_mae: 0.3440\n",
      "Epoch 8/100\n",
      "\u001b[1m207/207\u001b[0m \u001b[32m━━━━━━━━━━━━━━━━━━━━\u001b[0m\u001b[37m\u001b[0m \u001b[1m0s\u001b[0m 2ms/step - loss: 0.2468 - mae: 0.3482 - val_loss: 0.2518 - val_mae: 0.3479\n",
      "Epoch 9/100\n",
      "\u001b[1m207/207\u001b[0m \u001b[32m━━━━━━━━━━━━━━━━━━━━\u001b[0m\u001b[37m\u001b[0m \u001b[1m0s\u001b[0m 2ms/step - loss: 0.2351 - mae: 0.3410 - val_loss: 0.2476 - val_mae: 0.3426\n",
      "Epoch 10/100\n",
      "\u001b[1m207/207\u001b[0m \u001b[32m━━━━━━━━━━━━━━━━━━━━\u001b[0m\u001b[37m\u001b[0m \u001b[1m0s\u001b[0m 2ms/step - loss: 0.2319 - mae: 0.3381 - val_loss: 0.2449 - val_mae: 0.3427\n",
      "Epoch 11/100\n",
      "\u001b[1m207/207\u001b[0m \u001b[32m━━━━━━━━━━━━━━━━━━━━\u001b[0m\u001b[37m\u001b[0m \u001b[1m0s\u001b[0m 2ms/step - loss: 0.2206 - mae: 0.3299 - val_loss: 0.2488 - val_mae: 0.3478\n",
      "Epoch 12/100\n",
      "\u001b[1m207/207\u001b[0m \u001b[32m━━━━━━━━━━━━━━━━━━━━\u001b[0m\u001b[37m\u001b[0m \u001b[1m0s\u001b[0m 2ms/step - loss: 0.2277 - mae: 0.3330 - val_loss: 0.2385 - val_mae: 0.3331\n",
      "Epoch 13/100\n",
      "\u001b[1m207/207\u001b[0m \u001b[32m━━━━━━━━━━━━━━━━━━━━\u001b[0m\u001b[37m\u001b[0m \u001b[1m0s\u001b[0m 2ms/step - loss: 0.2251 - mae: 0.3302 - val_loss: 0.2384 - val_mae: 0.3338\n",
      "Epoch 14/100\n",
      "\u001b[1m207/207\u001b[0m \u001b[32m━━━━━━━━━━━━━━━━━━━━\u001b[0m\u001b[37m\u001b[0m \u001b[1m0s\u001b[0m 2ms/step - loss: 0.2180 - mae: 0.3265 - val_loss: 0.2419 - val_mae: 0.3472\n",
      "Epoch 15/100\n",
      "\u001b[1m207/207\u001b[0m \u001b[32m━━━━━━━━━━━━━━━━━━━━\u001b[0m\u001b[37m\u001b[0m \u001b[1m1s\u001b[0m 2ms/step - loss: 0.2242 - mae: 0.3293 - val_loss: 0.2311 - val_mae: 0.3307\n",
      "Epoch 16/100\n",
      "\u001b[1m207/207\u001b[0m \u001b[32m━━━━━━━━━━━━━━━━━━━━\u001b[0m\u001b[37m\u001b[0m \u001b[1m0s\u001b[0m 2ms/step - loss: 0.2135 - mae: 0.3221 - val_loss: 0.2345 - val_mae: 0.3311\n",
      "Epoch 17/100\n",
      "\u001b[1m207/207\u001b[0m \u001b[32m━━━━━━━━━━━━━━━━━━━━\u001b[0m\u001b[37m\u001b[0m \u001b[1m0s\u001b[0m 2ms/step - loss: 0.2123 - mae: 0.3213 - val_loss: 0.2373 - val_mae: 0.3273\n",
      "Epoch 18/100\n",
      "\u001b[1m207/207\u001b[0m \u001b[32m━━━━━━━━━━━━━━━━━━━━\u001b[0m\u001b[37m\u001b[0m \u001b[1m0s\u001b[0m 2ms/step - loss: 0.2094 - mae: 0.3220 - val_loss: 0.2296 - val_mae: 0.3297\n",
      "Epoch 19/100\n",
      "\u001b[1m207/207\u001b[0m \u001b[32m━━━━━━━━━━━━━━━━━━━━\u001b[0m\u001b[37m\u001b[0m \u001b[1m0s\u001b[0m 2ms/step - loss: 0.2097 - mae: 0.3207 - val_loss: 0.2333 - val_mae: 0.3304\n",
      "Epoch 20/100\n",
      "\u001b[1m207/207\u001b[0m \u001b[32m━━━━━━━━━━━━━━━━━━━━\u001b[0m\u001b[37m\u001b[0m \u001b[1m0s\u001b[0m 2ms/step - loss: 0.2039 - mae: 0.3160 - val_loss: 0.2282 - val_mae: 0.3241\n",
      "Epoch 21/100\n",
      "\u001b[1m207/207\u001b[0m \u001b[32m━━━━━━━━━━━━━━━━━━━━\u001b[0m\u001b[37m\u001b[0m \u001b[1m0s\u001b[0m 2ms/step - loss: 0.2073 - mae: 0.3167 - val_loss: 0.2284 - val_mae: 0.3344\n",
      "Epoch 22/100\n",
      "\u001b[1m207/207\u001b[0m \u001b[32m━━━━━━━━━━━━━━━━━━━━\u001b[0m\u001b[37m\u001b[0m \u001b[1m0s\u001b[0m 2ms/step - loss: 0.2149 - mae: 0.3201 - val_loss: 0.2273 - val_mae: 0.3206\n",
      "Epoch 23/100\n",
      "\u001b[1m207/207\u001b[0m \u001b[32m━━━━━━━━━━━━━━━━━━━━\u001b[0m\u001b[37m\u001b[0m \u001b[1m0s\u001b[0m 2ms/step - loss: 0.2099 - mae: 0.3196 - val_loss: 0.2295 - val_mae: 0.3268\n",
      "Epoch 24/100\n",
      "\u001b[1m207/207\u001b[0m \u001b[32m━━━━━━━━━━━━━━━━━━━━\u001b[0m\u001b[37m\u001b[0m \u001b[1m0s\u001b[0m 2ms/step - loss: 0.2007 - mae: 0.3091 - val_loss: 0.2331 - val_mae: 0.3331\n",
      "Epoch 25/100\n",
      "\u001b[1m207/207\u001b[0m \u001b[32m━━━━━━━━━━━━━━━━━━━━\u001b[0m\u001b[37m\u001b[0m \u001b[1m0s\u001b[0m 2ms/step - loss: 0.2008 - mae: 0.3123 - val_loss: 0.2320 - val_mae: 0.3291\n",
      "Epoch 26/100\n",
      "\u001b[1m207/207\u001b[0m \u001b[32m━━━━━━━━━━━━━━━━━━━━\u001b[0m\u001b[37m\u001b[0m \u001b[1m0s\u001b[0m 2ms/step - loss: 0.2076 - mae: 0.3188 - val_loss: 0.2234 - val_mae: 0.3185\n",
      "Epoch 27/100\n",
      "\u001b[1m207/207\u001b[0m \u001b[32m━━━━━━━━━━━━━━━━━━━━\u001b[0m\u001b[37m\u001b[0m \u001b[1m0s\u001b[0m 2ms/step - loss: 0.1999 - mae: 0.3096 - val_loss: 0.2252 - val_mae: 0.3203\n",
      "Epoch 28/100\n",
      "\u001b[1m207/207\u001b[0m \u001b[32m━━━━━━━━━━━━━━━━━━━━\u001b[0m\u001b[37m\u001b[0m \u001b[1m0s\u001b[0m 2ms/step - loss: 0.2102 - mae: 0.3143 - val_loss: 0.2265 - val_mae: 0.3229\n",
      "Epoch 29/100\n",
      "\u001b[1m207/207\u001b[0m \u001b[32m━━━━━━━━━━━━━━━━━━━━\u001b[0m\u001b[37m\u001b[0m \u001b[1m0s\u001b[0m 2ms/step - loss: 0.2022 - mae: 0.3093 - val_loss: 0.2271 - val_mae: 0.3185\n",
      "Epoch 30/100\n",
      "\u001b[1m207/207\u001b[0m \u001b[32m━━━━━━━━━━━━━━━━━━━━\u001b[0m\u001b[37m\u001b[0m \u001b[1m0s\u001b[0m 2ms/step - loss: 0.1927 - mae: 0.3058 - val_loss: 0.2205 - val_mae: 0.3198\n",
      "Epoch 31/100\n",
      "\u001b[1m207/207\u001b[0m \u001b[32m━━━━━━━━━━━━━━━━━━━━\u001b[0m\u001b[37m\u001b[0m \u001b[1m0s\u001b[0m 2ms/step - loss: 0.2005 - mae: 0.3085 - val_loss: 0.2206 - val_mae: 0.3121\n",
      "Epoch 32/100\n",
      "\u001b[1m207/207\u001b[0m \u001b[32m━━━━━━━━━━━━━━━━━━━━\u001b[0m\u001b[37m\u001b[0m \u001b[1m0s\u001b[0m 2ms/step - loss: 0.2004 - mae: 0.3079 - val_loss: 0.2217 - val_mae: 0.3224\n",
      "Epoch 33/100\n",
      "\u001b[1m207/207\u001b[0m \u001b[32m━━━━━━━━━━━━━━━━━━━━\u001b[0m\u001b[37m\u001b[0m \u001b[1m0s\u001b[0m 2ms/step - loss: 0.2013 - mae: 0.3086 - val_loss: 0.2181 - val_mae: 0.3146\n",
      "Epoch 34/100\n",
      "\u001b[1m207/207\u001b[0m \u001b[32m━━━━━━━━━━━━━━━━━━━━\u001b[0m\u001b[37m\u001b[0m \u001b[1m0s\u001b[0m 2ms/step - loss: 0.1998 - mae: 0.3107 - val_loss: 0.2288 - val_mae: 0.3185\n",
      "Epoch 35/100\n",
      "\u001b[1m207/207\u001b[0m \u001b[32m━━━━━━━━━━━━━━━━━━━━\u001b[0m\u001b[37m\u001b[0m \u001b[1m0s\u001b[0m 2ms/step - loss: 0.1965 - mae: 0.3066 - val_loss: 0.2201 - val_mae: 0.3136\n",
      "Epoch 36/100\n",
      "\u001b[1m207/207\u001b[0m \u001b[32m━━━━━━━━━━━━━━━━━━━━\u001b[0m\u001b[37m\u001b[0m \u001b[1m0s\u001b[0m 2ms/step - loss: 0.1973 - mae: 0.3090 - val_loss: 0.2220 - val_mae: 0.3185\n",
      "Epoch 37/100\n",
      "\u001b[1m207/207\u001b[0m \u001b[32m━━━━━━━━━━━━━━━━━━━━\u001b[0m\u001b[37m\u001b[0m \u001b[1m0s\u001b[0m 2ms/step - loss: 0.2033 - mae: 0.3135 - val_loss: 0.2200 - val_mae: 0.3135\n",
      "Epoch 38/100\n",
      "\u001b[1m207/207\u001b[0m \u001b[32m━━━━━━━━━━━━━━━━━━━━\u001b[0m\u001b[37m\u001b[0m \u001b[1m0s\u001b[0m 2ms/step - loss: 0.1961 - mae: 0.3072 - val_loss: 0.2190 - val_mae: 0.3101\n",
      "Epoch 39/100\n",
      "\u001b[1m207/207\u001b[0m \u001b[32m━━━━━━━━━━━━━━━━━━━━\u001b[0m\u001b[37m\u001b[0m \u001b[1m0s\u001b[0m 2ms/step - loss: 0.2018 - mae: 0.3081 - val_loss: 0.2185 - val_mae: 0.3102\n",
      "Epoch 40/100\n",
      "\u001b[1m207/207\u001b[0m \u001b[32m━━━━━━━━━━━━━━━━━━━━\u001b[0m\u001b[37m\u001b[0m \u001b[1m0s\u001b[0m 2ms/step - loss: 0.1901 - mae: 0.3001 - val_loss: 0.2203 - val_mae: 0.3120\n",
      "Epoch 41/100\n",
      "\u001b[1m207/207\u001b[0m \u001b[32m━━━━━━━━━━━━━━━━━━━━\u001b[0m\u001b[37m\u001b[0m \u001b[1m0s\u001b[0m 2ms/step - loss: 0.2036 - mae: 0.3086 - val_loss: 0.2187 - val_mae: 0.3176\n",
      "Epoch 42/100\n",
      "\u001b[1m207/207\u001b[0m \u001b[32m━━━━━━━━━━━━━━━━━━━━\u001b[0m\u001b[37m\u001b[0m \u001b[1m0s\u001b[0m 2ms/step - loss: 0.1837 - mae: 0.2974 - val_loss: 0.2143 - val_mae: 0.3127\n",
      "Epoch 43/100\n",
      "\u001b[1m207/207\u001b[0m \u001b[32m━━━━━━━━━━━━━━━━━━━━\u001b[0m\u001b[37m\u001b[0m \u001b[1m0s\u001b[0m 2ms/step - loss: 0.1968 - mae: 0.3043 - val_loss: 0.2211 - val_mae: 0.3262\n",
      "Epoch 44/100\n",
      "\u001b[1m207/207\u001b[0m \u001b[32m━━━━━━━━━━━━━━━━━━━━\u001b[0m\u001b[37m\u001b[0m \u001b[1m0s\u001b[0m 2ms/step - loss: 0.1811 - mae: 0.2964 - val_loss: 0.2205 - val_mae: 0.3248\n",
      "Epoch 45/100\n",
      "\u001b[1m207/207\u001b[0m \u001b[32m━━━━━━━━━━━━━━━━━━━━\u001b[0m\u001b[37m\u001b[0m \u001b[1m0s\u001b[0m 2ms/step - loss: 0.1871 - mae: 0.2999 - val_loss: 0.2206 - val_mae: 0.3169\n",
      "Epoch 46/100\n",
      "\u001b[1m207/207\u001b[0m \u001b[32m━━━━━━━━━━━━━━━━━━━━\u001b[0m\u001b[37m\u001b[0m \u001b[1m0s\u001b[0m 2ms/step - loss: 0.2012 - mae: 0.3088 - val_loss: 0.2206 - val_mae: 0.3241\n",
      "Epoch 47/100\n",
      "\u001b[1m207/207\u001b[0m \u001b[32m━━━━━━━━━━━━━━━━━━━━\u001b[0m\u001b[37m\u001b[0m \u001b[1m0s\u001b[0m 2ms/step - loss: 0.1977 - mae: 0.3059 - val_loss: 0.2156 - val_mae: 0.3098\n",
      "Epoch 48/100\n",
      "\u001b[1m207/207\u001b[0m \u001b[32m━━━━━━━━━━━━━━━━━━━━\u001b[0m\u001b[37m\u001b[0m \u001b[1m0s\u001b[0m 2ms/step - loss: 0.1876 - mae: 0.2970 - val_loss: 0.2242 - val_mae: 0.3288\n",
      "Epoch 49/100\n",
      "\u001b[1m207/207\u001b[0m \u001b[32m━━━━━━━━━━━━━━━━━━━━\u001b[0m\u001b[37m\u001b[0m \u001b[1m0s\u001b[0m 2ms/step - loss: 0.1908 - mae: 0.3014 - val_loss: 0.2233 - val_mae: 0.3170\n",
      "Epoch 50/100\n",
      "\u001b[1m207/207\u001b[0m \u001b[32m━━━━━━━━━━━━━━━━━━━━\u001b[0m\u001b[37m\u001b[0m \u001b[1m0s\u001b[0m 2ms/step - loss: 0.1942 - mae: 0.3051 - val_loss: 0.2166 - val_mae: 0.3107\n",
      "Epoch 51/100\n",
      "\u001b[1m207/207\u001b[0m \u001b[32m━━━━━━━━━━━━━━━━━━━━\u001b[0m\u001b[37m\u001b[0m \u001b[1m0s\u001b[0m 2ms/step - loss: 0.1878 - mae: 0.2986 - val_loss: 0.2120 - val_mae: 0.3075\n",
      "Epoch 52/100\n",
      "\u001b[1m207/207\u001b[0m \u001b[32m━━━━━━━━━━━━━━━━━━━━\u001b[0m\u001b[37m\u001b[0m \u001b[1m1s\u001b[0m 2ms/step - loss: 0.1958 - mae: 0.3040 - val_loss: 0.2153 - val_mae: 0.3155\n",
      "Epoch 53/100\n",
      "\u001b[1m207/207\u001b[0m \u001b[32m━━━━━━━━━━━━━━━━━━━━\u001b[0m\u001b[37m\u001b[0m \u001b[1m0s\u001b[0m 2ms/step - loss: 0.1932 - mae: 0.3028 - val_loss: 0.2104 - val_mae: 0.3101\n",
      "Epoch 54/100\n",
      "\u001b[1m207/207\u001b[0m \u001b[32m━━━━━━━━━━━━━━━━━━━━\u001b[0m\u001b[37m\u001b[0m \u001b[1m0s\u001b[0m 2ms/step - loss: 0.1852 - mae: 0.2993 - val_loss: 0.2174 - val_mae: 0.3238\n",
      "Epoch 55/100\n",
      "\u001b[1m207/207\u001b[0m \u001b[32m━━━━━━━━━━━━━━━━━━━━\u001b[0m\u001b[37m\u001b[0m \u001b[1m0s\u001b[0m 2ms/step - loss: 0.1878 - mae: 0.3004 - val_loss: 0.2113 - val_mae: 0.3085\n",
      "Epoch 56/100\n",
      "\u001b[1m207/207\u001b[0m \u001b[32m━━━━━━━━━━━━━━━━━━━━\u001b[0m\u001b[37m\u001b[0m \u001b[1m0s\u001b[0m 2ms/step - loss: 0.1871 - mae: 0.2992 - val_loss: 0.2144 - val_mae: 0.3096\n",
      "Epoch 57/100\n",
      "\u001b[1m207/207\u001b[0m \u001b[32m━━━━━━━━━━━━━━━━━━━━\u001b[0m\u001b[37m\u001b[0m \u001b[1m0s\u001b[0m 2ms/step - loss: 0.1945 - mae: 0.3032 - val_loss: 0.2116 - val_mae: 0.3111\n",
      "Epoch 58/100\n",
      "\u001b[1m207/207\u001b[0m \u001b[32m━━━━━━━━━━━━━━━━━━━━\u001b[0m\u001b[37m\u001b[0m \u001b[1m0s\u001b[0m 2ms/step - loss: 0.1879 - mae: 0.2997 - val_loss: 0.2178 - val_mae: 0.3242\n",
      "Epoch 59/100\n",
      "\u001b[1m207/207\u001b[0m \u001b[32m━━━━━━━━━━━━━━━━━━━━\u001b[0m\u001b[37m\u001b[0m \u001b[1m0s\u001b[0m 2ms/step - loss: 0.1876 - mae: 0.2971 - val_loss: 0.2167 - val_mae: 0.3134\n",
      "Epoch 60/100\n",
      "\u001b[1m207/207\u001b[0m \u001b[32m━━━━━━━━━━━━━━━━━━━━\u001b[0m\u001b[37m\u001b[0m \u001b[1m0s\u001b[0m 2ms/step - loss: 0.1813 - mae: 0.2937 - val_loss: 0.2194 - val_mae: 0.3194\n",
      "Epoch 61/100\n",
      "\u001b[1m207/207\u001b[0m \u001b[32m━━━━━━━━━━━━━━━━━━━━\u001b[0m\u001b[37m\u001b[0m \u001b[1m0s\u001b[0m 2ms/step - loss: 0.1824 - mae: 0.2980 - val_loss: 0.2124 - val_mae: 0.3033\n",
      "Epoch 62/100\n",
      "\u001b[1m207/207\u001b[0m \u001b[32m━━━━━━━━━━━━━━━━━━━━\u001b[0m\u001b[37m\u001b[0m \u001b[1m0s\u001b[0m 2ms/step - loss: 0.1874 - mae: 0.2974 - val_loss: 0.2164 - val_mae: 0.3177\n",
      "Epoch 63/100\n",
      "\u001b[1m207/207\u001b[0m \u001b[32m━━━━━━━━━━━━━━━━━━━━\u001b[0m\u001b[37m\u001b[0m \u001b[1m0s\u001b[0m 2ms/step - loss: 0.1836 - mae: 0.2972 - val_loss: 0.2090 - val_mae: 0.3022\n",
      "Epoch 64/100\n",
      "\u001b[1m207/207\u001b[0m \u001b[32m━━━━━━━━━━━━━━━━━━━━\u001b[0m\u001b[37m\u001b[0m \u001b[1m0s\u001b[0m 2ms/step - loss: 0.1857 - mae: 0.2980 - val_loss: 0.2090 - val_mae: 0.3089\n",
      "Epoch 65/100\n",
      "\u001b[1m207/207\u001b[0m \u001b[32m━━━━━━━━━━━━━━━━━━━━\u001b[0m\u001b[37m\u001b[0m \u001b[1m0s\u001b[0m 2ms/step - loss: 0.1837 - mae: 0.2958 - val_loss: 0.2102 - val_mae: 0.3064\n",
      "Epoch 66/100\n",
      "\u001b[1m207/207\u001b[0m \u001b[32m━━━━━━━━━━━━━━━━━━━━\u001b[0m\u001b[37m\u001b[0m \u001b[1m0s\u001b[0m 2ms/step - loss: 0.1816 - mae: 0.2933 - val_loss: 0.2086 - val_mae: 0.3057\n",
      "Epoch 67/100\n",
      "\u001b[1m207/207\u001b[0m \u001b[32m━━━━━━━━━━━━━━━━━━━━\u001b[0m\u001b[37m\u001b[0m \u001b[1m1s\u001b[0m 2ms/step - loss: 0.1852 - mae: 0.2964 - val_loss: 0.2148 - val_mae: 0.3208\n",
      "Epoch 68/100\n",
      "\u001b[1m207/207\u001b[0m \u001b[32m━━━━━━━━━━━━━━━━━━━━\u001b[0m\u001b[37m\u001b[0m \u001b[1m0s\u001b[0m 2ms/step - loss: 0.1854 - mae: 0.2980 - val_loss: 0.2128 - val_mae: 0.3129\n",
      "Epoch 69/100\n",
      "\u001b[1m207/207\u001b[0m \u001b[32m━━━━━━━━━━━━━━━━━━━━\u001b[0m\u001b[37m\u001b[0m \u001b[1m0s\u001b[0m 2ms/step - loss: 0.1848 - mae: 0.2989 - val_loss: 0.2136 - val_mae: 0.3109\n",
      "Epoch 70/100\n",
      "\u001b[1m207/207\u001b[0m \u001b[32m━━━━━━━━━━━━━━━━━━━━\u001b[0m\u001b[37m\u001b[0m \u001b[1m0s\u001b[0m 2ms/step - loss: 0.1817 - mae: 0.2945 - val_loss: 0.2129 - val_mae: 0.3048\n",
      "Epoch 71/100\n",
      "\u001b[1m207/207\u001b[0m \u001b[32m━━━━━━━━━━━━━━━━━━━━\u001b[0m\u001b[37m\u001b[0m \u001b[1m0s\u001b[0m 2ms/step - loss: 0.1789 - mae: 0.2940 - val_loss: 0.2097 - val_mae: 0.3036\n",
      "Epoch 72/100\n",
      "\u001b[1m207/207\u001b[0m \u001b[32m━━━━━━━━━━━━━━━━━━━━\u001b[0m\u001b[37m\u001b[0m \u001b[1m0s\u001b[0m 2ms/step - loss: 0.1801 - mae: 0.2909 - val_loss: 0.2122 - val_mae: 0.3148\n",
      "Epoch 73/100\n",
      "\u001b[1m207/207\u001b[0m \u001b[32m━━━━━━━━━━━━━━━━━━━━\u001b[0m\u001b[37m\u001b[0m \u001b[1m0s\u001b[0m 2ms/step - loss: 0.1796 - mae: 0.2960 - val_loss: 0.2148 - val_mae: 0.3116\n",
      "Epoch 74/100\n",
      "\u001b[1m207/207\u001b[0m \u001b[32m━━━━━━━━━━━━━━━━━━━━\u001b[0m\u001b[37m\u001b[0m \u001b[1m0s\u001b[0m 2ms/step - loss: 0.1791 - mae: 0.2920 - val_loss: 0.2137 - val_mae: 0.3160\n",
      "Epoch 75/100\n",
      "\u001b[1m207/207\u001b[0m \u001b[32m━━━━━━━━━━━━━━━━━━━━\u001b[0m\u001b[37m\u001b[0m \u001b[1m0s\u001b[0m 2ms/step - loss: 0.1776 - mae: 0.2916 - val_loss: 0.2132 - val_mae: 0.3081\n",
      "Epoch 76/100\n",
      "\u001b[1m207/207\u001b[0m \u001b[32m━━━━━━━━━━━━━━━━━━━━\u001b[0m\u001b[37m\u001b[0m \u001b[1m0s\u001b[0m 2ms/step - loss: 0.1738 - mae: 0.2875 - val_loss: 0.2115 - val_mae: 0.3083\n",
      "Epoch 77/100\n",
      "\u001b[1m207/207\u001b[0m \u001b[32m━━━━━━━━━━━━━━━━━━━━\u001b[0m\u001b[37m\u001b[0m \u001b[1m0s\u001b[0m 2ms/step - loss: 0.1799 - mae: 0.2946 - val_loss: 0.2103 - val_mae: 0.3080\n",
      "Epoch 78/100\n",
      "\u001b[1m207/207\u001b[0m \u001b[32m━━━━━━━━━━━━━━━━━━━━\u001b[0m\u001b[37m\u001b[0m \u001b[1m0s\u001b[0m 2ms/step - loss: 0.1797 - mae: 0.2913 - val_loss: 0.2070 - val_mae: 0.3038\n",
      "Epoch 79/100\n",
      "\u001b[1m207/207\u001b[0m \u001b[32m━━━━━━━━━━━━━━━━━━━━\u001b[0m\u001b[37m\u001b[0m \u001b[1m0s\u001b[0m 2ms/step - loss: 0.1841 - mae: 0.2955 - val_loss: 0.2094 - val_mae: 0.3105\n",
      "Epoch 80/100\n",
      "\u001b[1m207/207\u001b[0m \u001b[32m━━━━━━━━━━━━━━━━━━━━\u001b[0m\u001b[37m\u001b[0m \u001b[1m0s\u001b[0m 2ms/step - loss: 0.1724 - mae: 0.2873 - val_loss: 0.2071 - val_mae: 0.3067\n",
      "Epoch 81/100\n",
      "\u001b[1m207/207\u001b[0m \u001b[32m━━━━━━━━━━━━━━━━━━━━\u001b[0m\u001b[37m\u001b[0m \u001b[1m0s\u001b[0m 2ms/step - loss: 0.1763 - mae: 0.2920 - val_loss: 0.2107 - val_mae: 0.3113\n",
      "Epoch 82/100\n",
      "\u001b[1m207/207\u001b[0m \u001b[32m━━━━━━━━━━━━━━━━━━━━\u001b[0m\u001b[37m\u001b[0m \u001b[1m0s\u001b[0m 2ms/step - loss: 0.1738 - mae: 0.2895 - val_loss: 0.2077 - val_mae: 0.3086\n",
      "Epoch 83/100\n",
      "\u001b[1m207/207\u001b[0m \u001b[32m━━━━━━━━━━━━━━━━━━━━\u001b[0m\u001b[37m\u001b[0m \u001b[1m0s\u001b[0m 2ms/step - loss: 0.1770 - mae: 0.2908 - val_loss: 0.2103 - val_mae: 0.3174\n",
      "Epoch 84/100\n",
      "\u001b[1m207/207\u001b[0m \u001b[32m━━━━━━━━━━━━━━━━━━━━\u001b[0m\u001b[37m\u001b[0m \u001b[1m0s\u001b[0m 2ms/step - loss: 0.1714 - mae: 0.2886 - val_loss: 0.2145 - val_mae: 0.3214\n",
      "Epoch 85/100\n",
      "\u001b[1m207/207\u001b[0m \u001b[32m━━━━━━━━━━━━━━━━━━━━\u001b[0m\u001b[37m\u001b[0m \u001b[1m0s\u001b[0m 2ms/step - loss: 0.1842 - mae: 0.2966 - val_loss: 0.2122 - val_mae: 0.3056\n",
      "Epoch 86/100\n",
      "\u001b[1m207/207\u001b[0m \u001b[32m━━━━━━━━━━━━━━━━━━━━\u001b[0m\u001b[37m\u001b[0m \u001b[1m0s\u001b[0m 2ms/step - loss: 0.1861 - mae: 0.2963 - val_loss: 0.2057 - val_mae: 0.3065\n",
      "Epoch 87/100\n",
      "\u001b[1m207/207\u001b[0m \u001b[32m━━━━━━━━━━━━━━━━━━━━\u001b[0m\u001b[37m\u001b[0m \u001b[1m0s\u001b[0m 2ms/step - loss: 0.1735 - mae: 0.2881 - val_loss: 0.2083 - val_mae: 0.3116\n",
      "Epoch 88/100\n",
      "\u001b[1m207/207\u001b[0m \u001b[32m━━━━━━━━━━━━━━━━━━━━\u001b[0m\u001b[37m\u001b[0m \u001b[1m0s\u001b[0m 2ms/step - loss: 0.1838 - mae: 0.2959 - val_loss: 0.2084 - val_mae: 0.3059\n",
      "Epoch 89/100\n",
      "\u001b[1m207/207\u001b[0m \u001b[32m━━━━━━━━━━━━━━━━━━━━\u001b[0m\u001b[37m\u001b[0m \u001b[1m0s\u001b[0m 2ms/step - loss: 0.1768 - mae: 0.2906 - val_loss: 0.2116 - val_mae: 0.3104\n",
      "Epoch 90/100\n",
      "\u001b[1m207/207\u001b[0m \u001b[32m━━━━━━━━━━━━━━━━━━━━\u001b[0m\u001b[37m\u001b[0m \u001b[1m0s\u001b[0m 2ms/step - loss: 0.1794 - mae: 0.2925 - val_loss: 0.2154 - val_mae: 0.3052\n",
      "Epoch 91/100\n",
      "\u001b[1m207/207\u001b[0m \u001b[32m━━━━━━━━━━━━━━━━━━━━\u001b[0m\u001b[37m\u001b[0m \u001b[1m0s\u001b[0m 2ms/step - loss: 0.1762 - mae: 0.2904 - val_loss: 0.2174 - val_mae: 0.3148\n",
      "Epoch 92/100\n",
      "\u001b[1m207/207\u001b[0m \u001b[32m━━━━━━━━━━━━━━━━━━━━\u001b[0m\u001b[37m\u001b[0m \u001b[1m0s\u001b[0m 2ms/step - loss: 0.1831 - mae: 0.2952 - val_loss: 0.2108 - val_mae: 0.3045\n",
      "Epoch 93/100\n",
      "\u001b[1m207/207\u001b[0m \u001b[32m━━━━━━━━━━━━━━━━━━━━\u001b[0m\u001b[37m\u001b[0m \u001b[1m0s\u001b[0m 2ms/step - loss: 0.1740 - mae: 0.2872 - val_loss: 0.2103 - val_mae: 0.3112\n",
      "Epoch 94/100\n",
      "\u001b[1m207/207\u001b[0m \u001b[32m━━━━━━━━━━━━━━━━━━━━\u001b[0m\u001b[37m\u001b[0m \u001b[1m0s\u001b[0m 2ms/step - loss: 0.1774 - mae: 0.2923 - val_loss: 0.2142 - val_mae: 0.3104\n",
      "Epoch 95/100\n",
      "\u001b[1m207/207\u001b[0m \u001b[32m━━━━━━━━━━━━━━━━━━━━\u001b[0m\u001b[37m\u001b[0m \u001b[1m0s\u001b[0m 2ms/step - loss: 0.1777 - mae: 0.2894 - val_loss: 0.2135 - val_mae: 0.3119\n",
      "Epoch 96/100\n",
      "\u001b[1m207/207\u001b[0m \u001b[32m━━━━━━━━━━━━━━━━━━━━\u001b[0m\u001b[37m\u001b[0m \u001b[1m0s\u001b[0m 2ms/step - loss: 0.1737 - mae: 0.2868 - val_loss: 0.2108 - val_mae: 0.3047\n",
      "Epoch 97/100\n",
      "\u001b[1m207/207\u001b[0m \u001b[32m━━━━━━━━━━━━━━━━━━━━\u001b[0m\u001b[37m\u001b[0m \u001b[1m0s\u001b[0m 2ms/step - loss: 0.1751 - mae: 0.2899 - val_loss: 0.2097 - val_mae: 0.3131\n",
      "Epoch 98/100\n",
      "\u001b[1m207/207\u001b[0m \u001b[32m━━━━━━━━━━━━━━━━━━━━\u001b[0m\u001b[37m\u001b[0m \u001b[1m0s\u001b[0m 2ms/step - loss: 0.1738 - mae: 0.2883 - val_loss: 0.2119 - val_mae: 0.3095\n",
      "Epoch 99/100\n",
      "\u001b[1m207/207\u001b[0m \u001b[32m━━━━━━━━━━━━━━━━━━━━\u001b[0m\u001b[37m\u001b[0m \u001b[1m0s\u001b[0m 2ms/step - loss: 0.1775 - mae: 0.2902 - val_loss: 0.2203 - val_mae: 0.3279\n",
      "Epoch 100/100\n",
      "\u001b[1m207/207\u001b[0m \u001b[32m━━━━━━━━━━━━━━━━━━━━\u001b[0m\u001b[37m\u001b[0m \u001b[1m0s\u001b[0m 2ms/step - loss: 0.1782 - mae: 0.2949 - val_loss: 0.2096 - val_mae: 0.3092\n"
     ]
    },
    {
     "data": {
      "text/plain": [
       "<keras.src.callbacks.history.History at 0x7ebd110e66e0>"
      ]
     },
     "execution_count": 12,
     "metadata": {},
     "output_type": "execute_result"
    }
   ],
   "source": [
    "model.fit(x_train, y_train, epochs=100, validation_split=0.2, batch_size=64)"
   ]
  },
  {
   "cell_type": "markdown",
   "id": "f3f716cd",
   "metadata": {
    "papermill": {
     "duration": 0.070775,
     "end_time": "2024-07-28T13:09:39.191293",
     "exception": false,
     "start_time": "2024-07-28T13:09:39.120518",
     "status": "completed"
    },
    "tags": []
   },
   "source": [
    "## With Pytorch"
   ]
  },
  {
   "cell_type": "code",
   "execution_count": 13,
   "id": "dcbd4ba7",
   "metadata": {
    "execution": {
     "iopub.execute_input": "2024-07-28T13:09:39.333631Z",
     "iopub.status.busy": "2024-07-28T13:09:39.333261Z",
     "iopub.status.idle": "2024-07-28T13:09:43.357898Z",
     "shell.execute_reply": "2024-07-28T13:09:43.356872Z"
    },
    "papermill": {
     "duration": 4.098473,
     "end_time": "2024-07-28T13:09:43.360088",
     "exception": false,
     "start_time": "2024-07-28T13:09:39.261615",
     "status": "completed"
    },
    "tags": []
   },
   "outputs": [],
   "source": [
    "import torch\n",
    "import torch.nn as nn\n",
    "from torch.utils.data import Dataset, DataLoader"
   ]
  },
  {
   "cell_type": "code",
   "execution_count": 14,
   "id": "bc460f2a",
   "metadata": {
    "execution": {
     "iopub.execute_input": "2024-07-28T13:09:43.506766Z",
     "iopub.status.busy": "2024-07-28T13:09:43.505512Z",
     "iopub.status.idle": "2024-07-28T13:09:43.512562Z",
     "shell.execute_reply": "2024-07-28T13:09:43.511731Z"
    },
    "papermill": {
     "duration": 0.081288,
     "end_time": "2024-07-28T13:09:43.514604",
     "exception": false,
     "start_time": "2024-07-28T13:09:43.433316",
     "status": "completed"
    },
    "tags": []
   },
   "outputs": [
    {
     "data": {
      "text/plain": [
       "'cuda'"
      ]
     },
     "execution_count": 14,
     "metadata": {},
     "output_type": "execute_result"
    }
   ],
   "source": [
    "num_epochs = 100\n",
    "learning_rate = 0.001\n",
    "device = \"cuda\" if torch.cuda.is_available() else 'cpu'\n",
    "device"
   ]
  },
  {
   "cell_type": "code",
   "execution_count": 15,
   "id": "d1898ee6",
   "metadata": {
    "execution": {
     "iopub.execute_input": "2024-07-28T13:09:43.697315Z",
     "iopub.status.busy": "2024-07-28T13:09:43.696979Z",
     "iopub.status.idle": "2024-07-28T13:09:43.702965Z",
     "shell.execute_reply": "2024-07-28T13:09:43.702071Z"
    },
    "papermill": {
     "duration": 0.079504,
     "end_time": "2024-07-28T13:09:43.704904",
     "exception": false,
     "start_time": "2024-07-28T13:09:43.625400",
     "status": "completed"
    },
    "tags": []
   },
   "outputs": [],
   "source": [
    "class MyDataset(Dataset):\n",
    "    def __init__(self, data, labels):\n",
    "        self.data = torch.from_numpy(data).float()\n",
    "        self.labels = torch.from_numpy(labels).float()\n",
    "\n",
    "    def __len__(self):\n",
    "        return len(self.data)\n",
    "\n",
    "    def __getitem__(self, idx):\n",
    "        return self.data[idx], self.labels[idx]"
   ]
  },
  {
   "cell_type": "code",
   "execution_count": 16,
   "id": "862674da",
   "metadata": {
    "execution": {
     "iopub.execute_input": "2024-07-28T13:09:43.848181Z",
     "iopub.status.busy": "2024-07-28T13:09:43.847863Z",
     "iopub.status.idle": "2024-07-28T13:09:43.865737Z",
     "shell.execute_reply": "2024-07-28T13:09:43.865035Z"
    },
    "papermill": {
     "duration": 0.091604,
     "end_time": "2024-07-28T13:09:43.867768",
     "exception": false,
     "start_time": "2024-07-28T13:09:43.776164",
     "status": "completed"
    },
    "tags": []
   },
   "outputs": [],
   "source": [
    "train_data = MyDataset(x_train, y_train)\n",
    "train_loader = DataLoader(train_data, batch_size=32, shuffle=True)"
   ]
  },
  {
   "cell_type": "code",
   "execution_count": 17,
   "id": "6f9e6c3c",
   "metadata": {
    "execution": {
     "iopub.execute_input": "2024-07-28T13:09:44.010334Z",
     "iopub.status.busy": "2024-07-28T13:09:44.009847Z",
     "iopub.status.idle": "2024-07-28T13:09:44.014279Z",
     "shell.execute_reply": "2024-07-28T13:09:44.013432Z"
    },
    "papermill": {
     "duration": 0.077395,
     "end_time": "2024-07-28T13:09:44.016186",
     "exception": false,
     "start_time": "2024-07-28T13:09:43.938791",
     "status": "completed"
    },
    "tags": []
   },
   "outputs": [],
   "source": [
    "    test_data = MyDataset(x_train, y_train)\n",
    "    test_loader = DataLoader(train_data, batch_size=32, shuffle=True)"
   ]
  },
  {
   "cell_type": "code",
   "execution_count": 18,
   "id": "a3675b19",
   "metadata": {
    "execution": {
     "iopub.execute_input": "2024-07-28T13:09:44.159394Z",
     "iopub.status.busy": "2024-07-28T13:09:44.159090Z",
     "iopub.status.idle": "2024-07-28T13:09:44.165531Z",
     "shell.execute_reply": "2024-07-28T13:09:44.164648Z"
    },
    "papermill": {
     "duration": 0.080723,
     "end_time": "2024-07-28T13:09:44.167543",
     "exception": false,
     "start_time": "2024-07-28T13:09:44.086820",
     "status": "completed"
    },
    "tags": []
   },
   "outputs": [],
   "source": [
    "class NNet(nn.Module):\n",
    "    def __init__(self):\n",
    "        super().__init__()\n",
    "        self.net=nn.Sequential(\n",
    "            nn.Linear(in_features=8, out_features=10),\n",
    "            nn.ReLU(),\n",
    "            nn.Linear(in_features=10, out_features=10),\n",
    "            nn.ReLU(),\n",
    "            nn.Linear(in_features=10, out_features=10),\n",
    "            nn.ReLU(),\n",
    "            nn.Linear(in_features=10, out_features=1),\n",
    "        )\n",
    "    def forward(self, x):\n",
    "        return self.net(x)"
   ]
  },
  {
   "cell_type": "code",
   "execution_count": 19,
   "id": "29700ab6",
   "metadata": {
    "execution": {
     "iopub.execute_input": "2024-07-28T13:09:44.311182Z",
     "iopub.status.busy": "2024-07-28T13:09:44.310890Z",
     "iopub.status.idle": "2024-07-28T13:09:44.417216Z",
     "shell.execute_reply": "2024-07-28T13:09:44.416229Z"
    },
    "papermill": {
     "duration": 0.181053,
     "end_time": "2024-07-28T13:09:44.419208",
     "exception": false,
     "start_time": "2024-07-28T13:09:44.238155",
     "status": "completed"
    },
    "tags": []
   },
   "outputs": [
    {
     "name": "stdout",
     "output_type": "stream",
     "text": [
      "NNet(\n",
      "  (net): Sequential(\n",
      "    (0): Linear(in_features=8, out_features=10, bias=True)\n",
      "    (1): ReLU()\n",
      "    (2): Linear(in_features=10, out_features=10, bias=True)\n",
      "    (3): ReLU()\n",
      "    (4): Linear(in_features=10, out_features=10, bias=True)\n",
      "    (5): ReLU()\n",
      "    (6): Linear(in_features=10, out_features=1, bias=True)\n",
      "  )\n",
      ")\n"
     ]
    }
   ],
   "source": [
    "model = NNet().to(device)\n",
    "print(model)"
   ]
  },
  {
   "cell_type": "code",
   "execution_count": 20,
   "id": "b256e71c",
   "metadata": {
    "execution": {
     "iopub.execute_input": "2024-07-28T13:09:44.567033Z",
     "iopub.status.busy": "2024-07-28T13:09:44.566707Z",
     "iopub.status.idle": "2024-07-28T13:09:44.572191Z",
     "shell.execute_reply": "2024-07-28T13:09:44.571351Z"
    },
    "papermill": {
     "duration": 0.079893,
     "end_time": "2024-07-28T13:09:44.574061",
     "exception": false,
     "start_time": "2024-07-28T13:09:44.494168",
     "status": "completed"
    },
    "tags": []
   },
   "outputs": [],
   "source": [
    "def mae(loader):\n",
    "    test_acc=0\n",
    "    model.eval() \n",
    "    MAE = nn.L1Loss()\n",
    "\n",
    "    with torch.no_grad(): \n",
    "        for i, (x, y) in enumerate(loader): \n",
    "\n",
    "            x = x.to(device) \n",
    "            y = y.to(device) \n",
    "\n",
    "            outputs = model(x) \n",
    "            mae_loss = MAE(outputs, y.unsqueeze(1)) \n",
    "  \n",
    "    return mae_loss            "
   ]
  },
  {
   "cell_type": "code",
   "execution_count": 21,
   "id": "cb6c9791",
   "metadata": {
    "execution": {
     "iopub.execute_input": "2024-07-28T13:09:44.717149Z",
     "iopub.status.busy": "2024-07-28T13:09:44.716839Z",
     "iopub.status.idle": "2024-07-28T13:09:46.136196Z",
     "shell.execute_reply": "2024-07-28T13:09:46.135205Z"
    },
    "papermill": {
     "duration": 1.493952,
     "end_time": "2024-07-28T13:09:46.138786",
     "exception": false,
     "start_time": "2024-07-28T13:09:44.644834",
     "status": "completed"
    },
    "tags": []
   },
   "outputs": [],
   "source": [
    "criterion = torch.nn.MSELoss() \n",
    "optimizer = torch.optim.Adam(model.parameters(), lr=learning_rate)"
   ]
  },
  {
   "cell_type": "code",
   "execution_count": 22,
   "id": "8bb29fd1",
   "metadata": {
    "execution": {
     "iopub.execute_input": "2024-07-28T13:09:46.282770Z",
     "iopub.status.busy": "2024-07-28T13:09:46.282436Z",
     "iopub.status.idle": "2024-07-28T13:12:08.549360Z",
     "shell.execute_reply": "2024-07-28T13:12:08.548358Z"
    },
    "papermill": {
     "duration": 142.341053,
     "end_time": "2024-07-28T13:12:08.551558",
     "exception": false,
     "start_time": "2024-07-28T13:09:46.210505",
     "status": "completed"
    },
    "tags": []
   },
   "outputs": [
    {
     "name": "stdout",
     "output_type": "stream",
     "text": [
      "Epoch 1/100\tMAE Loss : 0.5369888544082642\tMSE Loss : 0.3800298571586609\n",
      "Epoch 2/100\tMAE Loss : 0.2778993546962738\tMSE Loss : 0.604230523109436\n",
      "Epoch 3/100\tMAE Loss : 0.3159369230270386\tMSE Loss : 0.2088800072669983\n",
      "Epoch 4/100\tMAE Loss : 0.36809998750686646\tMSE Loss : 0.15023329854011536\n",
      "Epoch 5/100\tMAE Loss : 0.3568727970123291\tMSE Loss : 0.3167200982570648\n",
      "Epoch 6/100\tMAE Loss : 0.2816064655780792\tMSE Loss : 0.12637533247470856\n",
      "Epoch 7/100\tMAE Loss : 0.3880506753921509\tMSE Loss : 0.2814302444458008\n",
      "Epoch 8/100\tMAE Loss : 0.47619110345840454\tMSE Loss : 0.17073330283164978\n",
      "Epoch 9/100\tMAE Loss : 0.41422879695892334\tMSE Loss : 0.5374760031700134\n",
      "Epoch 10/100\tMAE Loss : 0.31286728382110596\tMSE Loss : 0.25085294246673584\n",
      "Epoch 11/100\tMAE Loss : 0.4474789500236511\tMSE Loss : 0.24821311235427856\n",
      "Epoch 12/100\tMAE Loss : 0.3575958013534546\tMSE Loss : 0.15350914001464844\n",
      "Epoch 13/100\tMAE Loss : 0.28333088755607605\tMSE Loss : 0.24804723262786865\n",
      "Epoch 14/100\tMAE Loss : 0.34613436460494995\tMSE Loss : 0.12845486402511597\n",
      "Epoch 15/100\tMAE Loss : 0.37375181913375854\tMSE Loss : 0.442250519990921\n",
      "Epoch 16/100\tMAE Loss : 0.4539192020893097\tMSE Loss : 0.35509756207466125\n",
      "Epoch 17/100\tMAE Loss : 0.3883615732192993\tMSE Loss : 0.2941577434539795\n",
      "Epoch 18/100\tMAE Loss : 0.34568700194358826\tMSE Loss : 0.31564468145370483\n",
      "Epoch 19/100\tMAE Loss : 0.49780359864234924\tMSE Loss : 0.17647962272167206\n",
      "Epoch 20/100\tMAE Loss : 0.40899014472961426\tMSE Loss : 0.3680155575275421\n",
      "Epoch 21/100\tMAE Loss : 0.2115132212638855\tMSE Loss : 0.19826200604438782\n",
      "Epoch 22/100\tMAE Loss : 0.32627785205841064\tMSE Loss : 0.12483290582895279\n",
      "Epoch 23/100\tMAE Loss : 0.32597362995147705\tMSE Loss : 0.27849745750427246\n",
      "Epoch 24/100\tMAE Loss : 0.4813852608203888\tMSE Loss : 0.1078650951385498\n",
      "Epoch 25/100\tMAE Loss : 0.4255358576774597\tMSE Loss : 0.6974493265151978\n",
      "Epoch 26/100\tMAE Loss : 0.2967797517776489\tMSE Loss : 0.24077321588993073\n",
      "Epoch 27/100\tMAE Loss : 0.33282241225242615\tMSE Loss : 0.3710528314113617\n",
      "Epoch 28/100\tMAE Loss : 0.321749210357666\tMSE Loss : 0.3003031611442566\n",
      "Epoch 29/100\tMAE Loss : 0.2558404207229614\tMSE Loss : 0.125003844499588\n",
      "Epoch 30/100\tMAE Loss : 0.3025292754173279\tMSE Loss : 0.2041081190109253\n",
      "Epoch 31/100\tMAE Loss : 0.3562682867050171\tMSE Loss : 0.36016589403152466\n",
      "Epoch 32/100\tMAE Loss : 0.4224053919315338\tMSE Loss : 0.2070792019367218\n",
      "Epoch 33/100\tMAE Loss : 0.35706454515457153\tMSE Loss : 0.15489263832569122\n",
      "Epoch 34/100\tMAE Loss : 0.20978699624538422\tMSE Loss : 0.12471617013216019\n",
      "Epoch 35/100\tMAE Loss : 0.3747757077217102\tMSE Loss : 0.18792122602462769\n",
      "Epoch 36/100\tMAE Loss : 0.39999186992645264\tMSE Loss : 0.22495517134666443\n",
      "Epoch 37/100\tMAE Loss : 0.42033231258392334\tMSE Loss : 0.1498766839504242\n",
      "Epoch 38/100\tMAE Loss : 0.4938879609107971\tMSE Loss : 0.11436531692743301\n",
      "Epoch 39/100\tMAE Loss : 0.3233199417591095\tMSE Loss : 0.21809160709381104\n",
      "Epoch 40/100\tMAE Loss : 0.24854981899261475\tMSE Loss : 0.19031544029712677\n",
      "Epoch 41/100\tMAE Loss : 0.30910831689834595\tMSE Loss : 0.16930153965950012\n",
      "Epoch 42/100\tMAE Loss : 0.34298789501190186\tMSE Loss : 0.11978530138731003\n",
      "Epoch 43/100\tMAE Loss : 0.27772897481918335\tMSE Loss : 0.1402917355298996\n",
      "Epoch 44/100\tMAE Loss : 0.5002979040145874\tMSE Loss : 0.15604530274868011\n",
      "Epoch 45/100\tMAE Loss : 0.34720951318740845\tMSE Loss : 0.3202781677246094\n",
      "Epoch 46/100\tMAE Loss : 0.32667168974876404\tMSE Loss : 0.12834273278713226\n",
      "Epoch 47/100\tMAE Loss : 0.24921658635139465\tMSE Loss : 0.16867950558662415\n",
      "Epoch 48/100\tMAE Loss : 0.4712568521499634\tMSE Loss : 0.27872446179389954\n",
      "Epoch 49/100\tMAE Loss : 0.2870377004146576\tMSE Loss : 0.08942602574825287\n",
      "Epoch 50/100\tMAE Loss : 0.20418484508991241\tMSE Loss : 0.30006343126296997\n",
      "Epoch 51/100\tMAE Loss : 0.2570215165615082\tMSE Loss : 0.3340425491333008\n",
      "Epoch 52/100\tMAE Loss : 0.2839892506599426\tMSE Loss : 0.476201593875885\n",
      "Epoch 53/100\tMAE Loss : 0.3752705454826355\tMSE Loss : 0.28948572278022766\n",
      "Epoch 54/100\tMAE Loss : 0.36963391304016113\tMSE Loss : 0.358432412147522\n",
      "Epoch 55/100\tMAE Loss : 0.3874185085296631\tMSE Loss : 0.5217753648757935\n",
      "Epoch 56/100\tMAE Loss : 0.4315098822116852\tMSE Loss : 0.09937933087348938\n",
      "Epoch 57/100\tMAE Loss : 0.30758148431777954\tMSE Loss : 0.13107295334339142\n",
      "Epoch 58/100\tMAE Loss : 0.2172560691833496\tMSE Loss : 0.11355571448802948\n",
      "Epoch 59/100\tMAE Loss : 0.2748122811317444\tMSE Loss : 0.3814188539981842\n",
      "Epoch 60/100\tMAE Loss : 0.32999712228775024\tMSE Loss : 0.587602972984314\n",
      "Epoch 61/100\tMAE Loss : 0.23023545742034912\tMSE Loss : 0.3516392111778259\n",
      "Epoch 62/100\tMAE Loss : 0.3048456013202667\tMSE Loss : 0.14405500888824463\n",
      "Epoch 63/100\tMAE Loss : 0.359555184841156\tMSE Loss : 0.1950482875108719\n",
      "Epoch 64/100\tMAE Loss : 0.30167144536972046\tMSE Loss : 0.19122634828090668\n",
      "Epoch 65/100\tMAE Loss : 0.4108378291130066\tMSE Loss : 0.08390755206346512\n",
      "Epoch 66/100\tMAE Loss : 0.33487361669540405\tMSE Loss : 0.4737429916858673\n",
      "Epoch 67/100\tMAE Loss : 0.3399654030799866\tMSE Loss : 0.8979545831680298\n",
      "Epoch 68/100\tMAE Loss : 0.329128623008728\tMSE Loss : 0.22241047024726868\n",
      "Epoch 69/100\tMAE Loss : 0.30744820833206177\tMSE Loss : 0.21995222568511963\n",
      "Epoch 70/100\tMAE Loss : 0.3607614040374756\tMSE Loss : 0.13905614614486694\n",
      "Epoch 71/100\tMAE Loss : 0.4508777856826782\tMSE Loss : 0.21852831542491913\n",
      "Epoch 72/100\tMAE Loss : 0.3220099210739136\tMSE Loss : 0.13131389021873474\n",
      "Epoch 73/100\tMAE Loss : 0.3508273959159851\tMSE Loss : 0.06868697702884674\n",
      "Epoch 74/100\tMAE Loss : 0.32338947057724\tMSE Loss : 0.1976523995399475\n",
      "Epoch 75/100\tMAE Loss : 0.4196420907974243\tMSE Loss : 0.19178925454616547\n",
      "Epoch 76/100\tMAE Loss : 0.41394558548927307\tMSE Loss : 0.14128725230693817\n",
      "Epoch 77/100\tMAE Loss : 0.32759320735931396\tMSE Loss : 0.3286449611186981\n",
      "Epoch 78/100\tMAE Loss : 0.330946683883667\tMSE Loss : 0.4122028946876526\n",
      "Epoch 79/100\tMAE Loss : 0.29883265495300293\tMSE Loss : 0.21427306532859802\n",
      "Epoch 80/100\tMAE Loss : 0.23435938358306885\tMSE Loss : 0.0948202908039093\n",
      "Epoch 81/100\tMAE Loss : 0.32805532217025757\tMSE Loss : 0.20463529229164124\n",
      "Epoch 82/100\tMAE Loss : 0.32802218198776245\tMSE Loss : 0.22280831634998322\n",
      "Epoch 83/100\tMAE Loss : 0.28759410977363586\tMSE Loss : 0.17592129111289978\n",
      "Epoch 84/100\tMAE Loss : 0.3356671929359436\tMSE Loss : 0.13765151798725128\n",
      "Epoch 85/100\tMAE Loss : 0.31534048914909363\tMSE Loss : 0.24576179683208466\n",
      "Epoch 86/100\tMAE Loss : 0.21635288000106812\tMSE Loss : 0.44493165612220764\n",
      "Epoch 87/100\tMAE Loss : 0.2717439532279968\tMSE Loss : 0.21431690454483032\n",
      "Epoch 88/100\tMAE Loss : 0.2714180648326874\tMSE Loss : 0.3074338138103485\n",
      "Epoch 89/100\tMAE Loss : 0.250975638628006\tMSE Loss : 0.15151387453079224\n",
      "Epoch 90/100\tMAE Loss : 0.32994574308395386\tMSE Loss : 0.116454117000103\n",
      "Epoch 91/100\tMAE Loss : 0.2852643132209778\tMSE Loss : 0.2530076801776886\n",
      "Epoch 92/100\tMAE Loss : 0.33687281608581543\tMSE Loss : 0.15683305263519287\n",
      "Epoch 93/100\tMAE Loss : 0.4032949209213257\tMSE Loss : 0.10650970786809921\n",
      "Epoch 94/100\tMAE Loss : 0.3987715244293213\tMSE Loss : 0.20809990167617798\n",
      "Epoch 95/100\tMAE Loss : 0.43181127309799194\tMSE Loss : 0.28109073638916016\n",
      "Epoch 96/100\tMAE Loss : 0.3334447741508484\tMSE Loss : 0.16742557287216187\n",
      "Epoch 97/100\tMAE Loss : 0.3101993203163147\tMSE Loss : 0.18835251033306122\n",
      "Epoch 98/100\tMAE Loss : 0.4059014916419983\tMSE Loss : 0.22402068972587585\n",
      "Epoch 99/100\tMAE Loss : 0.40612873435020447\tMSE Loss : 0.07945410907268524\n",
      "Epoch 100/100\tMAE Loss : 0.4080531895160675\tMSE Loss : 0.18402419984340668\n"
     ]
    }
   ],
   "source": [
    "for epoch in range(num_epochs):    \n",
    "    \n",
    "    train_loss = 0\n",
    "    model.train()\n",
    "    \n",
    "    for i, (x, y) in enumerate(train_loader):\n",
    "        \n",
    "        x = x.to(device)\n",
    "        y = y.to(device)\n",
    "        \n",
    "        outputs = model(x)\n",
    "        loss = criterion(outputs, y.unsqueeze(1))\n",
    "        \n",
    "        optimizer.zero_grad()\n",
    "        loss.backward()\n",
    "        optimizer.step()\n",
    "        train_loss += loss.item()\n",
    "    \n",
    "    mae_loss = mae(train_loader)\n",
    "    \n",
    "    print(f\"Epoch {epoch+1}/{num_epochs}\\tMAE Loss : {mae_loss}\\tMSE Loss : {loss.item()}\")"
   ]
  }
 ],
 "metadata": {
  "kaggle": {
   "accelerator": "nvidiaTeslaT4",
   "dataSources": [],
   "dockerImageVersionId": 30747,
   "isGpuEnabled": true,
   "isInternetEnabled": true,
   "language": "python",
   "sourceType": "notebook"
  },
  "kernelspec": {
   "display_name": "Python 3",
   "language": "python",
   "name": "python3"
  },
  "language_info": {
   "codemirror_mode": {
    "name": "ipython",
    "version": 3
   },
   "file_extension": ".py",
   "mimetype": "text/x-python",
   "name": "python",
   "nbconvert_exporter": "python",
   "pygments_lexer": "ipython3",
   "version": "3.10.13"
  },
  "papermill": {
   "default_parameters": {},
   "duration": 215.48646,
   "end_time": "2024-07-28T13:12:11.673476",
   "environment_variables": {},
   "exception": null,
   "input_path": "__notebook__.ipynb",
   "output_path": "__notebook__.ipynb",
   "parameters": {},
   "start_time": "2024-07-28T13:08:36.187016",
   "version": "2.5.0"
  }
 },
 "nbformat": 4,
 "nbformat_minor": 5
}
